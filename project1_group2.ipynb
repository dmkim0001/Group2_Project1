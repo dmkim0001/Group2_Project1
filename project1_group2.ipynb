{
  "nbformat": 4,
  "nbformat_minor": 0,
  "metadata": {
    "colab": {
      "provenance": [],
      "collapsed_sections": []
    },
    "kernelspec": {
      "name": "python3",
      "display_name": "Python 3"
    },
    "language_info": {
      "name": "python"
    }
  },
  "cells": [
    {
      "cell_type": "markdown",
      "source": [
        "## 1. Introduction: Give the details on the source of your data, its content, and some questions you are interested in. The data should have at least 1000 rows and 4 columns.\n",
        "\n",
        "#### We have selected the dataset that cotains Corona Virus cases between January 2020 and June 2020 from Kaggle. \n",
        "#### It contains 4389 rows and 6 columns. \n",
        "#### The group 2 will present Corona Virus tracking the number of confirmed cases, Death toll and Recovered patients in USA. \n",
        "\n",
        "\n",
        "#### Source: https://www.kaggle.com/code/khoongweihao/covid-19-novel-coronavirus-eda-forecasting-cases/notebook\n",
        "\n"
      ],
      "metadata": {
        "id": "6RPV2E2PC227"
      }
    },
    {
      "cell_type": "code",
      "source": [
        "# Libraries\n",
        "import numpy as np\n",
        "import pandas as pd"
      ],
      "metadata": {
        "id": "kuZ9Iq8Ugvz5"
      },
      "execution_count": 7,
      "outputs": []
    },
    {
      "cell_type": "markdown",
      "source": [
        "#### I have introduced two different methods to import a dataset. \n",
        "##### Method 1: Downloading a dataset  in the notebook document on Google Colab."
      ],
      "metadata": {
        "id": "vUjIMPpKnATF"
      }
    },
    {
      "cell_type": "code",
      "execution_count": 8,
      "metadata": {
        "id": "PPTP6exCa3YR"
      },
      "outputs": [],
      "source": [
        "# Upload your dataset to Google Colab Notebook and import \n",
        "df = pd.read_csv( r'/content/forecasts_custom_prophet.csv')"
      ]
    },
    {
      "cell_type": "markdown",
      "source": [
        "##### Method 2: Mounting Drive to import a dataset."
      ],
      "metadata": {
        "id": "vk9V1BnAVQqx"
      }
    },
    {
      "cell_type": "code",
      "source": [
        "# run this  code when you saved your dataset in google drive.\n",
        "from google.colab import drive \n",
        "drive.mount('/content/drive')"
      ],
      "metadata": {
        "id": "zIByrZK27plT",
        "outputId": "1ae8045b-d4a2-4ed0-c6dc-22bab1769be3",
        "colab": {
          "base_uri": "https://localhost:8080/"
        }
      },
      "execution_count": 9,
      "outputs": [
        {
          "output_type": "stream",
          "name": "stdout",
          "text": [
            "Mounted at /content/drive\n"
          ]
        }
      ]
    },
    {
      "cell_type": "code",
      "source": [
        "# get the numbers of rows and columns.\n",
        "print(\"dimensions of the group2 dataframe = \",df.shape)"
      ],
      "metadata": {
        "colab": {
          "base_uri": "https://localhost:8080/"
        },
        "id": "aAkd9gQn-e_N",
        "outputId": "1bcb8416-0871-416e-b7a0-7b71495b4be5"
      },
      "execution_count": 10,
      "outputs": [
        {
          "output_type": "stream",
          "name": "stdout",
          "text": [
            "dimensions of the group2 dataframe =  (4389, 6)\n"
          ]
        }
      ]
    },
    {
      "cell_type": "code",
      "source": [
        "# Read data on forecats_custom_prophet\n",
        "# users = pd.read_table('/content/forecasts_custom_prophet.csv')\n",
        "users = pd.read_csv('/content/forecasts_custom_prophet.csv')\n",
        "users.shape"
      ],
      "metadata": {
        "id": "fDxBUI6E0YBu",
        "colab": {
          "base_uri": "https://localhost:8080/"
        },
        "outputId": "d1286eea-9a56-4db5-b01d-fd1b54dfc6ec"
      },
      "execution_count": 11,
      "outputs": [
        {
          "output_type": "execute_result",
          "data": {
            "text/plain": [
              "(4389, 6)"
            ]
          },
          "metadata": {},
          "execution_count": 11
        }
      ]
    },
    {
      "cell_type": "code",
      "source": [
        "print(users)"
      ],
      "metadata": {
        "colab": {
          "base_uri": "https://localhost:8080/"
        },
        "id": "6ERSMXOSXNb-",
        "outputId": "b7ae3feb-6f70-4671-a7c4-37d4d0bbade1"
      },
      "execution_count": 12,
      "outputs": [
        {
          "output_type": "stream",
          "name": "stdout",
          "text": [
            "          ObservationDate   Province/State Country/Region  Confirmed  Deaths  \\\n",
            "0     2020-06-04 00:00:00  New South Wales      Australia     4019.0    51.0   \n",
            "1     2020-06-05 00:00:00  New South Wales      Australia     4082.0    51.0   \n",
            "2     2020-06-06 00:00:00  New South Wales      Australia     4075.0    52.0   \n",
            "3     2020-06-07 00:00:00  New South Wales      Australia     4085.0    53.0   \n",
            "4     2020-06-08 00:00:00  New South Wales      Australia     4121.0    53.0   \n",
            "...                   ...              ...            ...        ...     ...   \n",
            "4384                    0                0              0        0.0     0.0   \n",
            "4385                    0                0              0        0.0     0.0   \n",
            "4386                    0                0              0        0.0     0.0   \n",
            "4387                    0                0              0        0.0     0.0   \n",
            "4388                    0                0              0        0.0     0.0   \n",
            "\n",
            "      Recovered  \n",
            "0        3321.0  \n",
            "1        3465.0  \n",
            "2        3494.0  \n",
            "3        3493.0  \n",
            "4        3480.0  \n",
            "...         ...  \n",
            "4384        0.0  \n",
            "4385        0.0  \n",
            "4386        0.0  \n",
            "4387        0.0  \n",
            "4388        0.0  \n",
            "\n",
            "[4389 rows x 6 columns]\n"
          ]
        }
      ]
    },
    {
      "cell_type": "markdown",
      "source": [
        "## 2. Prepare and wrangle your data with Pandas and Numpy."
      ],
      "metadata": {
        "id": "cIe1AQUhCatI"
      }
    },
    {
      "cell_type": "code",
      "source": [
        "# list data types of the dataframe.\n",
        "df.dtypes"
      ],
      "metadata": {
        "colab": {
          "base_uri": "https://localhost:8080/"
        },
        "id": "D78RGeYQK5a-",
        "outputId": "d36256c4-a94c-421f-860d-ff39bbe161d3"
      },
      "execution_count": 13,
      "outputs": [
        {
          "output_type": "execute_result",
          "data": {
            "text/plain": [
              "ObservationDate     object\n",
              "Province/State      object\n",
              "Country/Region      object\n",
              "Confirmed          float64\n",
              "Deaths             float64\n",
              "Recovered          float64\n",
              "dtype: object"
            ]
          },
          "metadata": {},
          "execution_count": 13
        }
      ]
    },
    {
      "cell_type": "code",
      "source": [
        "# Print the dataset.\n",
        "df.head()"
      ],
      "metadata": {
        "colab": {
          "base_uri": "https://localhost:8080/",
          "height": 206
        },
        "id": "XkUaO8fqelXK",
        "outputId": "23159ee4-8f42-479e-a6b5-efb644e457e6"
      },
      "execution_count": 14,
      "outputs": [
        {
          "output_type": "execute_result",
          "data": {
            "text/plain": [
              "       ObservationDate   Province/State Country/Region  Confirmed  Deaths  \\\n",
              "0  2020-06-04 00:00:00  New South Wales      Australia     4019.0    51.0   \n",
              "1  2020-06-05 00:00:00  New South Wales      Australia     4082.0    51.0   \n",
              "2  2020-06-06 00:00:00  New South Wales      Australia     4075.0    52.0   \n",
              "3  2020-06-07 00:00:00  New South Wales      Australia     4085.0    53.0   \n",
              "4  2020-06-08 00:00:00  New South Wales      Australia     4121.0    53.0   \n",
              "\n",
              "   Recovered  \n",
              "0     3321.0  \n",
              "1     3465.0  \n",
              "2     3494.0  \n",
              "3     3493.0  \n",
              "4     3480.0  "
            ],
            "text/html": [
              "\n",
              "  <div id=\"df-cc12a161-526b-4a60-a058-47ed3dc5e700\">\n",
              "    <div class=\"colab-df-container\">\n",
              "      <div>\n",
              "<style scoped>\n",
              "    .dataframe tbody tr th:only-of-type {\n",
              "        vertical-align: middle;\n",
              "    }\n",
              "\n",
              "    .dataframe tbody tr th {\n",
              "        vertical-align: top;\n",
              "    }\n",
              "\n",
              "    .dataframe thead th {\n",
              "        text-align: right;\n",
              "    }\n",
              "</style>\n",
              "<table border=\"1\" class=\"dataframe\">\n",
              "  <thead>\n",
              "    <tr style=\"text-align: right;\">\n",
              "      <th></th>\n",
              "      <th>ObservationDate</th>\n",
              "      <th>Province/State</th>\n",
              "      <th>Country/Region</th>\n",
              "      <th>Confirmed</th>\n",
              "      <th>Deaths</th>\n",
              "      <th>Recovered</th>\n",
              "    </tr>\n",
              "  </thead>\n",
              "  <tbody>\n",
              "    <tr>\n",
              "      <th>0</th>\n",
              "      <td>2020-06-04 00:00:00</td>\n",
              "      <td>New South Wales</td>\n",
              "      <td>Australia</td>\n",
              "      <td>4019.0</td>\n",
              "      <td>51.0</td>\n",
              "      <td>3321.0</td>\n",
              "    </tr>\n",
              "    <tr>\n",
              "      <th>1</th>\n",
              "      <td>2020-06-05 00:00:00</td>\n",
              "      <td>New South Wales</td>\n",
              "      <td>Australia</td>\n",
              "      <td>4082.0</td>\n",
              "      <td>51.0</td>\n",
              "      <td>3465.0</td>\n",
              "    </tr>\n",
              "    <tr>\n",
              "      <th>2</th>\n",
              "      <td>2020-06-06 00:00:00</td>\n",
              "      <td>New South Wales</td>\n",
              "      <td>Australia</td>\n",
              "      <td>4075.0</td>\n",
              "      <td>52.0</td>\n",
              "      <td>3494.0</td>\n",
              "    </tr>\n",
              "    <tr>\n",
              "      <th>3</th>\n",
              "      <td>2020-06-07 00:00:00</td>\n",
              "      <td>New South Wales</td>\n",
              "      <td>Australia</td>\n",
              "      <td>4085.0</td>\n",
              "      <td>53.0</td>\n",
              "      <td>3493.0</td>\n",
              "    </tr>\n",
              "    <tr>\n",
              "      <th>4</th>\n",
              "      <td>2020-06-08 00:00:00</td>\n",
              "      <td>New South Wales</td>\n",
              "      <td>Australia</td>\n",
              "      <td>4121.0</td>\n",
              "      <td>53.0</td>\n",
              "      <td>3480.0</td>\n",
              "    </tr>\n",
              "  </tbody>\n",
              "</table>\n",
              "</div>\n",
              "      <button class=\"colab-df-convert\" onclick=\"convertToInteractive('df-cc12a161-526b-4a60-a058-47ed3dc5e700')\"\n",
              "              title=\"Convert this dataframe to an interactive table.\"\n",
              "              style=\"display:none;\">\n",
              "        \n",
              "  <svg xmlns=\"http://www.w3.org/2000/svg\" height=\"24px\"viewBox=\"0 0 24 24\"\n",
              "       width=\"24px\">\n",
              "    <path d=\"M0 0h24v24H0V0z\" fill=\"none\"/>\n",
              "    <path d=\"M18.56 5.44l.94 2.06.94-2.06 2.06-.94-2.06-.94-.94-2.06-.94 2.06-2.06.94zm-11 1L8.5 8.5l.94-2.06 2.06-.94-2.06-.94L8.5 2.5l-.94 2.06-2.06.94zm10 10l.94 2.06.94-2.06 2.06-.94-2.06-.94-.94-2.06-.94 2.06-2.06.94z\"/><path d=\"M17.41 7.96l-1.37-1.37c-.4-.4-.92-.59-1.43-.59-.52 0-1.04.2-1.43.59L10.3 9.45l-7.72 7.72c-.78.78-.78 2.05 0 2.83L4 21.41c.39.39.9.59 1.41.59.51 0 1.02-.2 1.41-.59l7.78-7.78 2.81-2.81c.8-.78.8-2.07 0-2.86zM5.41 20L4 18.59l7.72-7.72 1.47 1.35L5.41 20z\"/>\n",
              "  </svg>\n",
              "      </button>\n",
              "      \n",
              "  <style>\n",
              "    .colab-df-container {\n",
              "      display:flex;\n",
              "      flex-wrap:wrap;\n",
              "      gap: 12px;\n",
              "    }\n",
              "\n",
              "    .colab-df-convert {\n",
              "      background-color: #E8F0FE;\n",
              "      border: none;\n",
              "      border-radius: 50%;\n",
              "      cursor: pointer;\n",
              "      display: none;\n",
              "      fill: #1967D2;\n",
              "      height: 32px;\n",
              "      padding: 0 0 0 0;\n",
              "      width: 32px;\n",
              "    }\n",
              "\n",
              "    .colab-df-convert:hover {\n",
              "      background-color: #E2EBFA;\n",
              "      box-shadow: 0px 1px 2px rgba(60, 64, 67, 0.3), 0px 1px 3px 1px rgba(60, 64, 67, 0.15);\n",
              "      fill: #174EA6;\n",
              "    }\n",
              "\n",
              "    [theme=dark] .colab-df-convert {\n",
              "      background-color: #3B4455;\n",
              "      fill: #D2E3FC;\n",
              "    }\n",
              "\n",
              "    [theme=dark] .colab-df-convert:hover {\n",
              "      background-color: #434B5C;\n",
              "      box-shadow: 0px 1px 3px 1px rgba(0, 0, 0, 0.15);\n",
              "      filter: drop-shadow(0px 1px 2px rgba(0, 0, 0, 0.3));\n",
              "      fill: #FFFFFF;\n",
              "    }\n",
              "  </style>\n",
              "\n",
              "      <script>\n",
              "        const buttonEl =\n",
              "          document.querySelector('#df-cc12a161-526b-4a60-a058-47ed3dc5e700 button.colab-df-convert');\n",
              "        buttonEl.style.display =\n",
              "          google.colab.kernel.accessAllowed ? 'block' : 'none';\n",
              "\n",
              "        async function convertToInteractive(key) {\n",
              "          const element = document.querySelector('#df-cc12a161-526b-4a60-a058-47ed3dc5e700');\n",
              "          const dataTable =\n",
              "            await google.colab.kernel.invokeFunction('convertToInteractive',\n",
              "                                                     [key], {});\n",
              "          if (!dataTable) return;\n",
              "\n",
              "          const docLinkHtml = 'Like what you see? Visit the ' +\n",
              "            '<a target=\"_blank\" href=https://colab.research.google.com/notebooks/data_table.ipynb>data table notebook</a>'\n",
              "            + ' to learn more about interactive tables.';\n",
              "          element.innerHTML = '';\n",
              "          dataTable['output_type'] = 'display_data';\n",
              "          await google.colab.output.renderOutput(dataTable, element);\n",
              "          const docLink = document.createElement('div');\n",
              "          docLink.innerHTML = docLinkHtml;\n",
              "          element.appendChild(docLink);\n",
              "        }\n",
              "      </script>\n",
              "    </div>\n",
              "  </div>\n",
              "  "
            ]
          },
          "metadata": {},
          "execution_count": 14
        }
      ]
    },
    {
      "cell_type": "code",
      "source": [
        "# Check how many null values in the dataset and output.\n",
        "print('Number of null/NaN values in df: ',df.isnull().values.sum())"
      ],
      "metadata": {
        "colab": {
          "base_uri": "https://localhost:8080/"
        },
        "id": "HMwFO5WEiBu0",
        "outputId": "3022de82-e8e8-49ba-b4a7-d7a777c09d64"
      },
      "execution_count": 15,
      "outputs": [
        {
          "output_type": "stream",
          "name": "stdout",
          "text": [
            "Number of null/NaN values in df:  0\n"
          ]
        }
      ]
    },
    {
      "cell_type": "code",
      "source": [
        "# In Region, there is 0 values.\n",
        "\n",
        "df['Country/Region'].unique()"
      ],
      "metadata": {
        "colab": {
          "base_uri": "https://localhost:8080/"
        },
        "id": "Q3RZPgZ1j7ZC",
        "outputId": "562b46d5-94e3-4a6b-a081-5e2f7f1eaac3"
      },
      "execution_count": 16,
      "outputs": [
        {
          "output_type": "execute_result",
          "data": {
            "text/plain": [
              "array(['Australia', '0', 'Brazil', 'Canada', 'Chile', 'Colombia',\n",
              "       'Denmark', 'France', 'Germany', 'Hong Kong', 'Italy', 'Japan',\n",
              "       'Macau', 'Mainland China', 'Mexico', 'Netherlands', 'Peru',\n",
              "       'Russia', 'Spain', 'UK', 'US', 'Ukraine'], dtype=object)"
            ]
          },
          "metadata": {},
          "execution_count": 16
        }
      ]
    },
    {
      "cell_type": "code",
      "source": [
        "# remove decimals in Confirmed, Deaths and Recovered variables.\n",
        "df.Confirmed = df.Confirmed.apply(int)\n",
        "df.Deaths = df.Deaths.apply(int)\n",
        "df.Recovered = df.Recovered.apply(int)\n",
        "print(df)"
      ],
      "metadata": {
        "colab": {
          "base_uri": "https://localhost:8080/"
        },
        "id": "9kktZq8Smzn8",
        "outputId": "3c85358e-463e-4b94-bce3-1ab8c3a544e4"
      },
      "execution_count": 17,
      "outputs": [
        {
          "output_type": "stream",
          "name": "stdout",
          "text": [
            "          ObservationDate   Province/State Country/Region  Confirmed  Deaths  \\\n",
            "0     2020-06-04 00:00:00  New South Wales      Australia       4019      51   \n",
            "1     2020-06-05 00:00:00  New South Wales      Australia       4082      51   \n",
            "2     2020-06-06 00:00:00  New South Wales      Australia       4075      52   \n",
            "3     2020-06-07 00:00:00  New South Wales      Australia       4085      53   \n",
            "4     2020-06-08 00:00:00  New South Wales      Australia       4121      53   \n",
            "...                   ...              ...            ...        ...     ...   \n",
            "4384                    0                0              0          0       0   \n",
            "4385                    0                0              0          0       0   \n",
            "4386                    0                0              0          0       0   \n",
            "4387                    0                0              0          0       0   \n",
            "4388                    0                0              0          0       0   \n",
            "\n",
            "      Recovered  \n",
            "0          3321  \n",
            "1          3465  \n",
            "2          3494  \n",
            "3          3493  \n",
            "4          3480  \n",
            "...         ...  \n",
            "4384          0  \n",
            "4385          0  \n",
            "4386          0  \n",
            "4387          0  \n",
            "4388          0  \n",
            "\n",
            "[4389 rows x 6 columns]\n"
          ]
        }
      ]
    },
    {
      "cell_type": "code",
      "source": [
        "# Remove the count column from the dataframe\n",
        "df = df.set_index('ObservationDate')\n",
        "print(df)"
      ],
      "metadata": {
        "colab": {
          "base_uri": "https://localhost:8080/"
        },
        "id": "3ZOG0ejZsonW",
        "outputId": "690508bb-1fb6-4617-81ea-494f375634c6"
      },
      "execution_count": 18,
      "outputs": [
        {
          "output_type": "stream",
          "name": "stdout",
          "text": [
            "                      Province/State Country/Region  Confirmed  Deaths  \\\n",
            "ObservationDate                                                          \n",
            "2020-06-04 00:00:00  New South Wales      Australia       4019      51   \n",
            "2020-06-05 00:00:00  New South Wales      Australia       4082      51   \n",
            "2020-06-06 00:00:00  New South Wales      Australia       4075      52   \n",
            "2020-06-07 00:00:00  New South Wales      Australia       4085      53   \n",
            "2020-06-08 00:00:00  New South Wales      Australia       4121      53   \n",
            "...                              ...            ...        ...     ...   \n",
            "0                                  0              0          0       0   \n",
            "0                                  0              0          0       0   \n",
            "0                                  0              0          0       0   \n",
            "0                                  0              0          0       0   \n",
            "0                                  0              0          0       0   \n",
            "\n",
            "                     Recovered  \n",
            "ObservationDate                 \n",
            "2020-06-04 00:00:00       3321  \n",
            "2020-06-05 00:00:00       3465  \n",
            "2020-06-06 00:00:00       3494  \n",
            "2020-06-07 00:00:00       3493  \n",
            "2020-06-08 00:00:00       3480  \n",
            "...                        ...  \n",
            "0                            0  \n",
            "0                            0  \n",
            "0                            0  \n",
            "0                            0  \n",
            "0                            0  \n",
            "\n",
            "[4389 rows x 5 columns]\n"
          ]
        }
      ]
    },
    {
      "cell_type": "code",
      "source": [
        "df= df.rename(columns={'ObservationDate':'Date','Province/State':'State','Country/Region':'Country'})"
      ],
      "metadata": {
        "id": "A_OWdw4mL2Up"
      },
      "execution_count": 19,
      "outputs": []
    },
    {
      "cell_type": "code",
      "source": [
        "# drop rows by condition. 0 values are removed.\n",
        "df=df[df.Country !='0']"
      ],
      "metadata": {
        "id": "7FX3v3jiNEDg"
      },
      "execution_count": 20,
      "outputs": []
    },
    {
      "cell_type": "code",
      "source": [
        "print(\"number of rows and colummns in our df after drop 0 = \", df.shape)"
      ],
      "metadata": {
        "colab": {
          "base_uri": "https://localhost:8080/"
        },
        "id": "0a4c7CPkNoTe",
        "outputId": "71504640-1aa5-44d4-9cd3-408f9a3bdbde"
      },
      "execution_count": 21,
      "outputs": [
        {
          "output_type": "stream",
          "name": "stdout",
          "text": [
            "number of rows and colummns in our df after drop 0 =  (2364, 5)\n"
          ]
        }
      ]
    },
    {
      "cell_type": "code",
      "source": [
        "df.describe(include='all')"
      ],
      "metadata": {
        "colab": {
          "base_uri": "https://localhost:8080/",
          "height": 394
        },
        "id": "7HWnAW0zWryy",
        "outputId": "3bedf7c5-9f9e-4771-c242-8a37f824cf76"
      },
      "execution_count": 22,
      "outputs": [
        {
          "output_type": "execute_result",
          "data": {
            "text/plain": [
              "          State Country     Confirmed         Deaths     Recovered\n",
              "count      2364    2364  2.364000e+03    2364.000000  2.364000e+03\n",
              "unique      532      21           NaN            NaN           NaN\n",
              "top     Unknown      US           NaN            NaN           NaN\n",
              "freq         23    1019           NaN            NaN           NaN\n",
              "mean        NaN     NaN  2.363147e+04    1209.284687  2.546793e+04\n",
              "std         NaN     NaN  1.368274e+05   10152.904756  2.224601e+05\n",
              "min         NaN     NaN  0.000000e+00       0.000000  0.000000e+00\n",
              "25%         NaN     NaN  6.000000e+00       0.000000  0.000000e+00\n",
              "50%         NaN     NaN  1.940000e+02       3.000000  0.000000e+00\n",
              "75%         NaN     NaN  7.986750e+03     143.250000  4.400000e+02\n",
              "max         NaN     NaN  3.242818e+06  382980.000000  4.657437e+06"
            ],
            "text/html": [
              "\n",
              "  <div id=\"df-49dbf261-dac1-4066-8770-769fc7935613\">\n",
              "    <div class=\"colab-df-container\">\n",
              "      <div>\n",
              "<style scoped>\n",
              "    .dataframe tbody tr th:only-of-type {\n",
              "        vertical-align: middle;\n",
              "    }\n",
              "\n",
              "    .dataframe tbody tr th {\n",
              "        vertical-align: top;\n",
              "    }\n",
              "\n",
              "    .dataframe thead th {\n",
              "        text-align: right;\n",
              "    }\n",
              "</style>\n",
              "<table border=\"1\" class=\"dataframe\">\n",
              "  <thead>\n",
              "    <tr style=\"text-align: right;\">\n",
              "      <th></th>\n",
              "      <th>State</th>\n",
              "      <th>Country</th>\n",
              "      <th>Confirmed</th>\n",
              "      <th>Deaths</th>\n",
              "      <th>Recovered</th>\n",
              "    </tr>\n",
              "  </thead>\n",
              "  <tbody>\n",
              "    <tr>\n",
              "      <th>count</th>\n",
              "      <td>2364</td>\n",
              "      <td>2364</td>\n",
              "      <td>2.364000e+03</td>\n",
              "      <td>2364.000000</td>\n",
              "      <td>2.364000e+03</td>\n",
              "    </tr>\n",
              "    <tr>\n",
              "      <th>unique</th>\n",
              "      <td>532</td>\n",
              "      <td>21</td>\n",
              "      <td>NaN</td>\n",
              "      <td>NaN</td>\n",
              "      <td>NaN</td>\n",
              "    </tr>\n",
              "    <tr>\n",
              "      <th>top</th>\n",
              "      <td>Unknown</td>\n",
              "      <td>US</td>\n",
              "      <td>NaN</td>\n",
              "      <td>NaN</td>\n",
              "      <td>NaN</td>\n",
              "    </tr>\n",
              "    <tr>\n",
              "      <th>freq</th>\n",
              "      <td>23</td>\n",
              "      <td>1019</td>\n",
              "      <td>NaN</td>\n",
              "      <td>NaN</td>\n",
              "      <td>NaN</td>\n",
              "    </tr>\n",
              "    <tr>\n",
              "      <th>mean</th>\n",
              "      <td>NaN</td>\n",
              "      <td>NaN</td>\n",
              "      <td>2.363147e+04</td>\n",
              "      <td>1209.284687</td>\n",
              "      <td>2.546793e+04</td>\n",
              "    </tr>\n",
              "    <tr>\n",
              "      <th>std</th>\n",
              "      <td>NaN</td>\n",
              "      <td>NaN</td>\n",
              "      <td>1.368274e+05</td>\n",
              "      <td>10152.904756</td>\n",
              "      <td>2.224601e+05</td>\n",
              "    </tr>\n",
              "    <tr>\n",
              "      <th>min</th>\n",
              "      <td>NaN</td>\n",
              "      <td>NaN</td>\n",
              "      <td>0.000000e+00</td>\n",
              "      <td>0.000000</td>\n",
              "      <td>0.000000e+00</td>\n",
              "    </tr>\n",
              "    <tr>\n",
              "      <th>25%</th>\n",
              "      <td>NaN</td>\n",
              "      <td>NaN</td>\n",
              "      <td>6.000000e+00</td>\n",
              "      <td>0.000000</td>\n",
              "      <td>0.000000e+00</td>\n",
              "    </tr>\n",
              "    <tr>\n",
              "      <th>50%</th>\n",
              "      <td>NaN</td>\n",
              "      <td>NaN</td>\n",
              "      <td>1.940000e+02</td>\n",
              "      <td>3.000000</td>\n",
              "      <td>0.000000e+00</td>\n",
              "    </tr>\n",
              "    <tr>\n",
              "      <th>75%</th>\n",
              "      <td>NaN</td>\n",
              "      <td>NaN</td>\n",
              "      <td>7.986750e+03</td>\n",
              "      <td>143.250000</td>\n",
              "      <td>4.400000e+02</td>\n",
              "    </tr>\n",
              "    <tr>\n",
              "      <th>max</th>\n",
              "      <td>NaN</td>\n",
              "      <td>NaN</td>\n",
              "      <td>3.242818e+06</td>\n",
              "      <td>382980.000000</td>\n",
              "      <td>4.657437e+06</td>\n",
              "    </tr>\n",
              "  </tbody>\n",
              "</table>\n",
              "</div>\n",
              "      <button class=\"colab-df-convert\" onclick=\"convertToInteractive('df-49dbf261-dac1-4066-8770-769fc7935613')\"\n",
              "              title=\"Convert this dataframe to an interactive table.\"\n",
              "              style=\"display:none;\">\n",
              "        \n",
              "  <svg xmlns=\"http://www.w3.org/2000/svg\" height=\"24px\"viewBox=\"0 0 24 24\"\n",
              "       width=\"24px\">\n",
              "    <path d=\"M0 0h24v24H0V0z\" fill=\"none\"/>\n",
              "    <path d=\"M18.56 5.44l.94 2.06.94-2.06 2.06-.94-2.06-.94-.94-2.06-.94 2.06-2.06.94zm-11 1L8.5 8.5l.94-2.06 2.06-.94-2.06-.94L8.5 2.5l-.94 2.06-2.06.94zm10 10l.94 2.06.94-2.06 2.06-.94-2.06-.94-.94-2.06-.94 2.06-2.06.94z\"/><path d=\"M17.41 7.96l-1.37-1.37c-.4-.4-.92-.59-1.43-.59-.52 0-1.04.2-1.43.59L10.3 9.45l-7.72 7.72c-.78.78-.78 2.05 0 2.83L4 21.41c.39.39.9.59 1.41.59.51 0 1.02-.2 1.41-.59l7.78-7.78 2.81-2.81c.8-.78.8-2.07 0-2.86zM5.41 20L4 18.59l7.72-7.72 1.47 1.35L5.41 20z\"/>\n",
              "  </svg>\n",
              "      </button>\n",
              "      \n",
              "  <style>\n",
              "    .colab-df-container {\n",
              "      display:flex;\n",
              "      flex-wrap:wrap;\n",
              "      gap: 12px;\n",
              "    }\n",
              "\n",
              "    .colab-df-convert {\n",
              "      background-color: #E8F0FE;\n",
              "      border: none;\n",
              "      border-radius: 50%;\n",
              "      cursor: pointer;\n",
              "      display: none;\n",
              "      fill: #1967D2;\n",
              "      height: 32px;\n",
              "      padding: 0 0 0 0;\n",
              "      width: 32px;\n",
              "    }\n",
              "\n",
              "    .colab-df-convert:hover {\n",
              "      background-color: #E2EBFA;\n",
              "      box-shadow: 0px 1px 2px rgba(60, 64, 67, 0.3), 0px 1px 3px 1px rgba(60, 64, 67, 0.15);\n",
              "      fill: #174EA6;\n",
              "    }\n",
              "\n",
              "    [theme=dark] .colab-df-convert {\n",
              "      background-color: #3B4455;\n",
              "      fill: #D2E3FC;\n",
              "    }\n",
              "\n",
              "    [theme=dark] .colab-df-convert:hover {\n",
              "      background-color: #434B5C;\n",
              "      box-shadow: 0px 1px 3px 1px rgba(0, 0, 0, 0.15);\n",
              "      filter: drop-shadow(0px 1px 2px rgba(0, 0, 0, 0.3));\n",
              "      fill: #FFFFFF;\n",
              "    }\n",
              "  </style>\n",
              "\n",
              "      <script>\n",
              "        const buttonEl =\n",
              "          document.querySelector('#df-49dbf261-dac1-4066-8770-769fc7935613 button.colab-df-convert');\n",
              "        buttonEl.style.display =\n",
              "          google.colab.kernel.accessAllowed ? 'block' : 'none';\n",
              "\n",
              "        async function convertToInteractive(key) {\n",
              "          const element = document.querySelector('#df-49dbf261-dac1-4066-8770-769fc7935613');\n",
              "          const dataTable =\n",
              "            await google.colab.kernel.invokeFunction('convertToInteractive',\n",
              "                                                     [key], {});\n",
              "          if (!dataTable) return;\n",
              "\n",
              "          const docLinkHtml = 'Like what you see? Visit the ' +\n",
              "            '<a target=\"_blank\" href=https://colab.research.google.com/notebooks/data_table.ipynb>data table notebook</a>'\n",
              "            + ' to learn more about interactive tables.';\n",
              "          element.innerHTML = '';\n",
              "          dataTable['output_type'] = 'display_data';\n",
              "          await google.colab.output.renderOutput(dataTable, element);\n",
              "          const docLink = document.createElement('div');\n",
              "          docLink.innerHTML = docLinkHtml;\n",
              "          element.appendChild(docLink);\n",
              "        }\n",
              "      </script>\n",
              "    </div>\n",
              "  </div>\n",
              "  "
            ]
          },
          "metadata": {},
          "execution_count": 22
        }
      ]
    },
    {
      "cell_type": "code",
      "source": [
        "df.describe()"
      ],
      "metadata": {
        "colab": {
          "base_uri": "https://localhost:8080/",
          "height": 300
        },
        "id": "n077EVbjN30U",
        "outputId": "7a4f30c4-6024-46c4-8e88-89321cc91b7f"
      },
      "execution_count": 23,
      "outputs": [
        {
          "output_type": "execute_result",
          "data": {
            "text/plain": [
              "          Confirmed         Deaths     Recovered\n",
              "count  2.364000e+03    2364.000000  2.364000e+03\n",
              "mean   2.363147e+04    1209.284687  2.546793e+04\n",
              "std    1.368274e+05   10152.904756  2.224601e+05\n",
              "min    0.000000e+00       0.000000  0.000000e+00\n",
              "25%    6.000000e+00       0.000000  0.000000e+00\n",
              "50%    1.940000e+02       3.000000  0.000000e+00\n",
              "75%    7.986750e+03     143.250000  4.400000e+02\n",
              "max    3.242818e+06  382980.000000  4.657437e+06"
            ],
            "text/html": [
              "\n",
              "  <div id=\"df-742db893-d4d9-4821-bd17-e3d7eca099c5\">\n",
              "    <div class=\"colab-df-container\">\n",
              "      <div>\n",
              "<style scoped>\n",
              "    .dataframe tbody tr th:only-of-type {\n",
              "        vertical-align: middle;\n",
              "    }\n",
              "\n",
              "    .dataframe tbody tr th {\n",
              "        vertical-align: top;\n",
              "    }\n",
              "\n",
              "    .dataframe thead th {\n",
              "        text-align: right;\n",
              "    }\n",
              "</style>\n",
              "<table border=\"1\" class=\"dataframe\">\n",
              "  <thead>\n",
              "    <tr style=\"text-align: right;\">\n",
              "      <th></th>\n",
              "      <th>Confirmed</th>\n",
              "      <th>Deaths</th>\n",
              "      <th>Recovered</th>\n",
              "    </tr>\n",
              "  </thead>\n",
              "  <tbody>\n",
              "    <tr>\n",
              "      <th>count</th>\n",
              "      <td>2.364000e+03</td>\n",
              "      <td>2364.000000</td>\n",
              "      <td>2.364000e+03</td>\n",
              "    </tr>\n",
              "    <tr>\n",
              "      <th>mean</th>\n",
              "      <td>2.363147e+04</td>\n",
              "      <td>1209.284687</td>\n",
              "      <td>2.546793e+04</td>\n",
              "    </tr>\n",
              "    <tr>\n",
              "      <th>std</th>\n",
              "      <td>1.368274e+05</td>\n",
              "      <td>10152.904756</td>\n",
              "      <td>2.224601e+05</td>\n",
              "    </tr>\n",
              "    <tr>\n",
              "      <th>min</th>\n",
              "      <td>0.000000e+00</td>\n",
              "      <td>0.000000</td>\n",
              "      <td>0.000000e+00</td>\n",
              "    </tr>\n",
              "    <tr>\n",
              "      <th>25%</th>\n",
              "      <td>6.000000e+00</td>\n",
              "      <td>0.000000</td>\n",
              "      <td>0.000000e+00</td>\n",
              "    </tr>\n",
              "    <tr>\n",
              "      <th>50%</th>\n",
              "      <td>1.940000e+02</td>\n",
              "      <td>3.000000</td>\n",
              "      <td>0.000000e+00</td>\n",
              "    </tr>\n",
              "    <tr>\n",
              "      <th>75%</th>\n",
              "      <td>7.986750e+03</td>\n",
              "      <td>143.250000</td>\n",
              "      <td>4.400000e+02</td>\n",
              "    </tr>\n",
              "    <tr>\n",
              "      <th>max</th>\n",
              "      <td>3.242818e+06</td>\n",
              "      <td>382980.000000</td>\n",
              "      <td>4.657437e+06</td>\n",
              "    </tr>\n",
              "  </tbody>\n",
              "</table>\n",
              "</div>\n",
              "      <button class=\"colab-df-convert\" onclick=\"convertToInteractive('df-742db893-d4d9-4821-bd17-e3d7eca099c5')\"\n",
              "              title=\"Convert this dataframe to an interactive table.\"\n",
              "              style=\"display:none;\">\n",
              "        \n",
              "  <svg xmlns=\"http://www.w3.org/2000/svg\" height=\"24px\"viewBox=\"0 0 24 24\"\n",
              "       width=\"24px\">\n",
              "    <path d=\"M0 0h24v24H0V0z\" fill=\"none\"/>\n",
              "    <path d=\"M18.56 5.44l.94 2.06.94-2.06 2.06-.94-2.06-.94-.94-2.06-.94 2.06-2.06.94zm-11 1L8.5 8.5l.94-2.06 2.06-.94-2.06-.94L8.5 2.5l-.94 2.06-2.06.94zm10 10l.94 2.06.94-2.06 2.06-.94-2.06-.94-.94-2.06-.94 2.06-2.06.94z\"/><path d=\"M17.41 7.96l-1.37-1.37c-.4-.4-.92-.59-1.43-.59-.52 0-1.04.2-1.43.59L10.3 9.45l-7.72 7.72c-.78.78-.78 2.05 0 2.83L4 21.41c.39.39.9.59 1.41.59.51 0 1.02-.2 1.41-.59l7.78-7.78 2.81-2.81c.8-.78.8-2.07 0-2.86zM5.41 20L4 18.59l7.72-7.72 1.47 1.35L5.41 20z\"/>\n",
              "  </svg>\n",
              "      </button>\n",
              "      \n",
              "  <style>\n",
              "    .colab-df-container {\n",
              "      display:flex;\n",
              "      flex-wrap:wrap;\n",
              "      gap: 12px;\n",
              "    }\n",
              "\n",
              "    .colab-df-convert {\n",
              "      background-color: #E8F0FE;\n",
              "      border: none;\n",
              "      border-radius: 50%;\n",
              "      cursor: pointer;\n",
              "      display: none;\n",
              "      fill: #1967D2;\n",
              "      height: 32px;\n",
              "      padding: 0 0 0 0;\n",
              "      width: 32px;\n",
              "    }\n",
              "\n",
              "    .colab-df-convert:hover {\n",
              "      background-color: #E2EBFA;\n",
              "      box-shadow: 0px 1px 2px rgba(60, 64, 67, 0.3), 0px 1px 3px 1px rgba(60, 64, 67, 0.15);\n",
              "      fill: #174EA6;\n",
              "    }\n",
              "\n",
              "    [theme=dark] .colab-df-convert {\n",
              "      background-color: #3B4455;\n",
              "      fill: #D2E3FC;\n",
              "    }\n",
              "\n",
              "    [theme=dark] .colab-df-convert:hover {\n",
              "      background-color: #434B5C;\n",
              "      box-shadow: 0px 1px 3px 1px rgba(0, 0, 0, 0.15);\n",
              "      filter: drop-shadow(0px 1px 2px rgba(0, 0, 0, 0.3));\n",
              "      fill: #FFFFFF;\n",
              "    }\n",
              "  </style>\n",
              "\n",
              "      <script>\n",
              "        const buttonEl =\n",
              "          document.querySelector('#df-742db893-d4d9-4821-bd17-e3d7eca099c5 button.colab-df-convert');\n",
              "        buttonEl.style.display =\n",
              "          google.colab.kernel.accessAllowed ? 'block' : 'none';\n",
              "\n",
              "        async function convertToInteractive(key) {\n",
              "          const element = document.querySelector('#df-742db893-d4d9-4821-bd17-e3d7eca099c5');\n",
              "          const dataTable =\n",
              "            await google.colab.kernel.invokeFunction('convertToInteractive',\n",
              "                                                     [key], {});\n",
              "          if (!dataTable) return;\n",
              "\n",
              "          const docLinkHtml = 'Like what you see? Visit the ' +\n",
              "            '<a target=\"_blank\" href=https://colab.research.google.com/notebooks/data_table.ipynb>data table notebook</a>'\n",
              "            + ' to learn more about interactive tables.';\n",
              "          element.innerHTML = '';\n",
              "          dataTable['output_type'] = 'display_data';\n",
              "          await google.colab.output.renderOutput(dataTable, element);\n",
              "          const docLink = document.createElement('div');\n",
              "          docLink.innerHTML = docLinkHtml;\n",
              "          element.appendChild(docLink);\n",
              "        }\n",
              "      </script>\n",
              "    </div>\n",
              "  </div>\n",
              "  "
            ]
          },
          "metadata": {},
          "execution_count": 23
        }
      ]
    },
    {
      "cell_type": "code",
      "source": [
        "df.Country.value_counts() #show the amount of rows for each country"
      ],
      "metadata": {
        "id": "7VZeBCeSkUlu",
        "colab": {
          "base_uri": "https://localhost:8080/"
        },
        "outputId": "8774fb86-8023-48e4-a32b-f18323f7b216"
      },
      "execution_count": 24,
      "outputs": [
        {
          "output_type": "execute_result",
          "data": {
            "text/plain": [
              "US                1019\n",
              "Mainland China     217\n",
              "Japan              183\n",
              "Canada             126\n",
              "Russia             110\n",
              "UK                  85\n",
              "Colombia            70\n",
              "Peru                70\n",
              "Australia           69\n",
              "France              67\n",
              "Brazil              58\n",
              "Ukraine             50\n",
              "Mexico              46\n",
              "Spain               41\n",
              "Chile               39\n",
              "Italy               32\n",
              "Netherlands         29\n",
              "Germany             24\n",
              "Denmark             15\n",
              "Macau                7\n",
              "Hong Kong            7\n",
              "Name: Country, dtype: int64"
            ]
          },
          "metadata": {},
          "execution_count": 24
        }
      ]
    },
    {
      "cell_type": "code",
      "source": [
        "# displayiny the variable of the dataset\n",
        "df.dtypes"
      ],
      "metadata": {
        "id": "PIqvpXZRp8EU",
        "colab": {
          "base_uri": "https://localhost:8080/"
        },
        "outputId": "668aa90f-9ce5-4dcb-f3ef-382bf51bc860"
      },
      "execution_count": 25,
      "outputs": [
        {
          "output_type": "execute_result",
          "data": {
            "text/plain": [
              "State        object\n",
              "Country      object\n",
              "Confirmed     int64\n",
              "Deaths        int64\n",
              "Recovered     int64\n",
              "dtype: object"
            ]
          },
          "metadata": {},
          "execution_count": 25
        }
      ]
    },
    {
      "cell_type": "code",
      "source": [
        "df_2=pd.get_dummies(df_1)\n",
        "df_2.head()"
      ],
      "metadata": {
        "colab": {
          "base_uri": "https://localhost:8080/",
          "height": 189
        },
        "id": "jIqqWu7e_bPk",
        "outputId": "e37b8bb6-9363-4a54-a726-5d027ad4dc5c"
      },
      "execution_count": 26,
      "outputs": [
        {
          "output_type": "error",
          "ename": "NameError",
          "evalue": "ignored",
          "traceback": [
            "\u001b[0;31m---------------------------------------------------------------------------\u001b[0m",
            "\u001b[0;31mNameError\u001b[0m                                 Traceback (most recent call last)",
            "\u001b[0;32m<ipython-input-26-4c95152bbce4>\u001b[0m in \u001b[0;36m<module>\u001b[0;34m\u001b[0m\n\u001b[0;32m----> 1\u001b[0;31m \u001b[0mdf_2\u001b[0m\u001b[0;34m=\u001b[0m\u001b[0mpd\u001b[0m\u001b[0;34m.\u001b[0m\u001b[0mget_dummies\u001b[0m\u001b[0;34m(\u001b[0m\u001b[0mdf_1\u001b[0m\u001b[0;34m)\u001b[0m\u001b[0;34m\u001b[0m\u001b[0;34m\u001b[0m\u001b[0m\n\u001b[0m\u001b[1;32m      2\u001b[0m \u001b[0mdf_2\u001b[0m\u001b[0;34m.\u001b[0m\u001b[0mhead\u001b[0m\u001b[0;34m(\u001b[0m\u001b[0;34m)\u001b[0m\u001b[0;34m\u001b[0m\u001b[0;34m\u001b[0m\u001b[0m\n",
            "\u001b[0;31mNameError\u001b[0m: name 'df_1' is not defined"
          ]
        }
      ]
    },
    {
      "cell_type": "markdown",
      "source": [
        "## 3. Use EDA principles and the Matplotlib/Seaborn packages to visualize the data."
      ],
      "metadata": {
        "id": "7fDo2QBCCjIM"
      }
    },
    {
      "cell_type": "code",
      "source": [
        "import matplotlib.pyplot as plt\n",
        "import seaborn as sns\n",
        "import pandas as pd"
      ],
      "metadata": {
        "id": "iDBu3ngGDBm8"
      },
      "execution_count": 27,
      "outputs": []
    },
    {
      "cell_type": "code",
      "source": [
        "# plot a bar chart showing the number rows for each country.\n",
        "df.Country.value_counts().plot(kind='bar')"
      ],
      "metadata": {
        "colab": {
          "base_uri": "https://localhost:8080/",
          "height": 351
        },
        "id": "ABUscWLAEeTH",
        "outputId": "fe045ab8-0d02-4c57-c774-be2024f4e389"
      },
      "execution_count": 93,
      "outputs": [
        {
          "output_type": "execute_result",
          "data": {
            "text/plain": [
              "<matplotlib.axes._subplots.AxesSubplot at 0x7f47e874ee90>"
            ]
          },
          "metadata": {},
          "execution_count": 93
        },
        {
          "output_type": "display_data",
          "data": {
            "text/plain": [
              "<Figure size 432x288 with 1 Axes>"
            ],
            "image/png": "[encoded data removed]"
          },
          "metadata": {
            "needs_background": "light"
          }
        }
      ]
    },
    {
      "cell_type": "markdown",
      "source": [
        "## 4. Use at least two of the following depending on your question of interest: pairplot, histogram, barplot, boxplot, or scatterplot."
      ],
      "metadata": {
        "id": "0xCAsNEYCuLx"
      }
    },
    {
      "cell_type": "code",
      "source": [
        "# Plot the data using bar()\n",
        "data = pd.DataFrame(df)\n",
        "country = data['Country'].head(12)\n",
        "deaths = data['Deaths'].head(12) \n",
        "# Figure Size\n",
        "fig = plt.figure(figsize =(10, 7)) \n",
        "# Horizontal Bar Plot\n",
        "plt.bar(country[0:10], deaths[0:10])\n",
        "plt.xlabel('Country')\n",
        "plt.ylabel('confirmed') \n",
        "# Show Plot\n",
        "plt.show()"
      ],
      "metadata": {
        "colab": {
          "base_uri": "https://localhost:8080/",
          "height": 442
        },
        "id": "9QYkLJkG-fzx",
        "outputId": "c624c7dd-434e-47e7-9044-29dbebd4ade4"
      },
      "execution_count": 103,
      "outputs": [
        {
          "output_type": "display_data",
          "data": {
            "text/plain": [
              "<Figure size 720x504 with 1 Axes>"
            ],
            "image/png": "[encoded data removed]"
          },
          "metadata": {
            "needs_background": "light"
          }
        }
      ]
    },
    {
      "cell_type": "code",
      "source": [
        "world = df.groupby(\"Country\")['Confirmed','Recovered','Deaths'].sum().reset_index()\n",
        "world"
      ],
      "metadata": {
        "colab": {
          "base_uri": "https://localhost:8080/",
          "height": 764
        },
        "id": "Ya2pGycYqXtl",
        "outputId": "3fb5fa28-8bc3-44cc-d215-ee317f434f87"
      },
      "execution_count": 35,
      "outputs": [
        {
          "output_type": "stream",
          "name": "stderr",
          "text": [
            "/usr/local/lib/python3.7/dist-packages/ipykernel_launcher.py:1: FutureWarning: Indexing with multiple keys (implicitly converted to a tuple of keys) will be deprecated, use a list instead.\n",
            "  \"\"\"Entry point for launching an IPython kernel.\n"
          ]
        },
        {
          "output_type": "execute_result",
          "data": {
            "text/plain": [
              "           Country  Confirmed  Recovered  Deaths\n",
              "0        Australia      63874      58696     841\n",
              "1           Brazil   16650887    6813247  472246\n",
              "2           Canada     694926     545762   56704\n",
              "3            Chile    1823707     265641   56454\n",
              "4         Colombia     111097     152266    9182\n",
              "5          Denmark      16356       1442      55\n",
              "6           France    1355589      18963   18338\n",
              "7          Germany    1592669    1817240   32040\n",
              "8        Hong Kong       9064       7445      28\n",
              "9            Italy    3631608    1242450  109042\n",
              "10           Japan     434245     795101    5077\n",
              "11           Macau        367        383       0\n",
              "12  Mainland China     573644     549827   33044\n",
              "13          Mexico    1275195     789945  136672\n",
              "14     Netherlands      24218       1334     616\n",
              "15            Peru    7617004    8044283  152388\n",
              "16          Russia    3619466    1508703   17904\n",
              "17           Spain    2454924   33787964  965040\n",
              "18              UK     307585      14667   19679\n",
              "19              US   13030958    3601383  765050\n",
              "20         Ukraine     577423     189446    8349"
            ],
            "text/html": [
              "\n",
              "  <div id=\"df-b49e3c38-bb87-4d0c-8bad-94a28fcbdbab\">\n",
              "    <div class=\"colab-df-container\">\n",
              "      <div>\n",
              "<style scoped>\n",
              "    .dataframe tbody tr th:only-of-type {\n",
              "        vertical-align: middle;\n",
              "    }\n",
              "\n",
              "    .dataframe tbody tr th {\n",
              "        vertical-align: top;\n",
              "    }\n",
              "\n",
              "    .dataframe thead th {\n",
              "        text-align: right;\n",
              "    }\n",
              "</style>\n",
              "<table border=\"1\" class=\"dataframe\">\n",
              "  <thead>\n",
              "    <tr style=\"text-align: right;\">\n",
              "      <th></th>\n",
              "      <th>Country</th>\n",
              "      <th>Confirmed</th>\n",
              "      <th>Recovered</th>\n",
              "      <th>Deaths</th>\n",
              "    </tr>\n",
              "  </thead>\n",
              "  <tbody>\n",
              "    <tr>\n",
              "      <th>0</th>\n",
              "      <td>Australia</td>\n",
              "      <td>63874</td>\n",
              "      <td>58696</td>\n",
              "      <td>841</td>\n",
              "    </tr>\n",
              "    <tr>\n",
              "      <th>1</th>\n",
              "      <td>Brazil</td>\n",
              "      <td>16650887</td>\n",
              "      <td>6813247</td>\n",
              "      <td>472246</td>\n",
              "    </tr>\n",
              "    <tr>\n",
              "      <th>2</th>\n",
              "      <td>Canada</td>\n",
              "      <td>694926</td>\n",
              "      <td>545762</td>\n",
              "      <td>56704</td>\n",
              "    </tr>\n",
              "    <tr>\n",
              "      <th>3</th>\n",
              "      <td>Chile</td>\n",
              "      <td>1823707</td>\n",
              "      <td>265641</td>\n",
              "      <td>56454</td>\n",
              "    </tr>\n",
              "    <tr>\n",
              "      <th>4</th>\n",
              "      <td>Colombia</td>\n",
              "      <td>111097</td>\n",
              "      <td>152266</td>\n",
              "      <td>9182</td>\n",
              "    </tr>\n",
              "    <tr>\n",
              "      <th>5</th>\n",
              "      <td>Denmark</td>\n",
              "      <td>16356</td>\n",
              "      <td>1442</td>\n",
              "      <td>55</td>\n",
              "    </tr>\n",
              "    <tr>\n",
              "      <th>6</th>\n",
              "      <td>France</td>\n",
              "      <td>1355589</td>\n",
              "      <td>18963</td>\n",
              "      <td>18338</td>\n",
              "    </tr>\n",
              "    <tr>\n",
              "      <th>7</th>\n",
              "      <td>Germany</td>\n",
              "      <td>1592669</td>\n",
              "      <td>1817240</td>\n",
              "      <td>32040</td>\n",
              "    </tr>\n",
              "    <tr>\n",
              "      <th>8</th>\n",
              "      <td>Hong Kong</td>\n",
              "      <td>9064</td>\n",
              "      <td>7445</td>\n",
              "      <td>28</td>\n",
              "    </tr>\n",
              "    <tr>\n",
              "      <th>9</th>\n",
              "      <td>Italy</td>\n",
              "      <td>3631608</td>\n",
              "      <td>1242450</td>\n",
              "      <td>109042</td>\n",
              "    </tr>\n",
              "    <tr>\n",
              "      <th>10</th>\n",
              "      <td>Japan</td>\n",
              "      <td>434245</td>\n",
              "      <td>795101</td>\n",
              "      <td>5077</td>\n",
              "    </tr>\n",
              "    <tr>\n",
              "      <th>11</th>\n",
              "      <td>Macau</td>\n",
              "      <td>367</td>\n",
              "      <td>383</td>\n",
              "      <td>0</td>\n",
              "    </tr>\n",
              "    <tr>\n",
              "      <th>12</th>\n",
              "      <td>Mainland China</td>\n",
              "      <td>573644</td>\n",
              "      <td>549827</td>\n",
              "      <td>33044</td>\n",
              "    </tr>\n",
              "    <tr>\n",
              "      <th>13</th>\n",
              "      <td>Mexico</td>\n",
              "      <td>1275195</td>\n",
              "      <td>789945</td>\n",
              "      <td>136672</td>\n",
              "    </tr>\n",
              "    <tr>\n",
              "      <th>14</th>\n",
              "      <td>Netherlands</td>\n",
              "      <td>24218</td>\n",
              "      <td>1334</td>\n",
              "      <td>616</td>\n",
              "    </tr>\n",
              "    <tr>\n",
              "      <th>15</th>\n",
              "      <td>Peru</td>\n",
              "      <td>7617004</td>\n",
              "      <td>8044283</td>\n",
              "      <td>152388</td>\n",
              "    </tr>\n",
              "    <tr>\n",
              "      <th>16</th>\n",
              "      <td>Russia</td>\n",
              "      <td>3619466</td>\n",
              "      <td>1508703</td>\n",
              "      <td>17904</td>\n",
              "    </tr>\n",
              "    <tr>\n",
              "      <th>17</th>\n",
              "      <td>Spain</td>\n",
              "      <td>2454924</td>\n",
              "      <td>33787964</td>\n",
              "      <td>965040</td>\n",
              "    </tr>\n",
              "    <tr>\n",
              "      <th>18</th>\n",
              "      <td>UK</td>\n",
              "      <td>307585</td>\n",
              "      <td>14667</td>\n",
              "      <td>19679</td>\n",
              "    </tr>\n",
              "    <tr>\n",
              "      <th>19</th>\n",
              "      <td>US</td>\n",
              "      <td>13030958</td>\n",
              "      <td>3601383</td>\n",
              "      <td>765050</td>\n",
              "    </tr>\n",
              "    <tr>\n",
              "      <th>20</th>\n",
              "      <td>Ukraine</td>\n",
              "      <td>577423</td>\n",
              "      <td>189446</td>\n",
              "      <td>8349</td>\n",
              "    </tr>\n",
              "  </tbody>\n",
              "</table>\n",
              "</div>\n",
              "      <button class=\"colab-df-convert\" onclick=\"convertToInteractive('df-b49e3c38-bb87-4d0c-8bad-94a28fcbdbab')\"\n",
              "              title=\"Convert this dataframe to an interactive table.\"\n",
              "              style=\"display:none;\">\n",
              "        \n",
              "  <svg xmlns=\"http://www.w3.org/2000/svg\" height=\"24px\"viewBox=\"0 0 24 24\"\n",
              "       width=\"24px\">\n",
              "    <path d=\"M0 0h24v24H0V0z\" fill=\"none\"/>\n",
              "    <path d=\"M18.56 5.44l.94 2.06.94-2.06 2.06-.94-2.06-.94-.94-2.06-.94 2.06-2.06.94zm-11 1L8.5 8.5l.94-2.06 2.06-.94-2.06-.94L8.5 2.5l-.94 2.06-2.06.94zm10 10l.94 2.06.94-2.06 2.06-.94-2.06-.94-.94-2.06-.94 2.06-2.06.94z\"/><path d=\"M17.41 7.96l-1.37-1.37c-.4-.4-.92-.59-1.43-.59-.52 0-1.04.2-1.43.59L10.3 9.45l-7.72 7.72c-.78.78-.78 2.05 0 2.83L4 21.41c.39.39.9.59 1.41.59.51 0 1.02-.2 1.41-.59l7.78-7.78 2.81-2.81c.8-.78.8-2.07 0-2.86zM5.41 20L4 18.59l7.72-7.72 1.47 1.35L5.41 20z\"/>\n",
              "  </svg>\n",
              "      </button>\n",
              "      \n",
              "  <style>\n",
              "    .colab-df-container {\n",
              "      display:flex;\n",
              "      flex-wrap:wrap;\n",
              "      gap: 12px;\n",
              "    }\n",
              "\n",
              "    .colab-df-convert {\n",
              "      background-color: #E8F0FE;\n",
              "      border: none;\n",
              "      border-radius: 50%;\n",
              "      cursor: pointer;\n",
              "      display: none;\n",
              "      fill: #1967D2;\n",
              "      height: 32px;\n",
              "      padding: 0 0 0 0;\n",
              "      width: 32px;\n",
              "    }\n",
              "\n",
              "    .colab-df-convert:hover {\n",
              "      background-color: #E2EBFA;\n",
              "      box-shadow: 0px 1px 2px rgba(60, 64, 67, 0.3), 0px 1px 3px 1px rgba(60, 64, 67, 0.15);\n",
              "      fill: #174EA6;\n",
              "    }\n",
              "\n",
              "    [theme=dark] .colab-df-convert {\n",
              "      background-color: #3B4455;\n",
              "      fill: #D2E3FC;\n",
              "    }\n",
              "\n",
              "    [theme=dark] .colab-df-convert:hover {\n",
              "      background-color: #434B5C;\n",
              "      box-shadow: 0px 1px 3px 1px rgba(0, 0, 0, 0.15);\n",
              "      filter: drop-shadow(0px 1px 2px rgba(0, 0, 0, 0.3));\n",
              "      fill: #FFFFFF;\n",
              "    }\n",
              "  </style>\n",
              "\n",
              "      <script>\n",
              "        const buttonEl =\n",
              "          document.querySelector('#df-b49e3c38-bb87-4d0c-8bad-94a28fcbdbab button.colab-df-convert');\n",
              "        buttonEl.style.display =\n",
              "          google.colab.kernel.accessAllowed ? 'block' : 'none';\n",
              "\n",
              "        async function convertToInteractive(key) {\n",
              "          const element = document.querySelector('#df-b49e3c38-bb87-4d0c-8bad-94a28fcbdbab');\n",
              "          const dataTable =\n",
              "            await google.colab.kernel.invokeFunction('convertToInteractive',\n",
              "                                                     [key], {});\n",
              "          if (!dataTable) return;\n",
              "\n",
              "          const docLinkHtml = 'Like what you see? Visit the ' +\n",
              "            '<a target=\"_blank\" href=https://colab.research.google.com/notebooks/data_table.ipynb>data table notebook</a>'\n",
              "            + ' to learn more about interactive tables.';\n",
              "          element.innerHTML = '';\n",
              "          dataTable['output_type'] = 'display_data';\n",
              "          await google.colab.output.renderOutput(dataTable, element);\n",
              "          const docLink = document.createElement('div');\n",
              "          docLink.innerHTML = docLinkHtml;\n",
              "          element.appendChild(docLink);\n",
              "        }\n",
              "      </script>\n",
              "    </div>\n",
              "  </div>\n",
              "  "
            ]
          },
          "metadata": {},
          "execution_count": 35
        }
      ]
    },
    {
      "cell_type": "code",
      "source": [
        "US = world.loc[20]\n",
        "US"
      ],
      "metadata": {
        "colab": {
          "base_uri": "https://localhost:8080/"
        },
        "id": "aUGfqFm1ui9Y",
        "outputId": "db380832-78ed-4a1c-997e-6c888de87ecf"
      },
      "execution_count": 36,
      "outputs": [
        {
          "output_type": "execute_result",
          "data": {
            "text/plain": [
              "Country      Ukraine\n",
              "Confirmed     577423\n",
              "Recovered     189446\n",
              "Deaths          8349\n",
              "Name: 20, dtype: object"
            ]
          },
          "metadata": {},
          "execution_count": 36
        }
      ]
    },
    {
      "cell_type": "markdown",
      "source": [
        "## 5. Simulate a nonparametric inference of the Median for a quantitative variable in the dataset."
      ],
      "metadata": {
        "id": "Q09bJMzxDVk1"
      }
    },
    {
      "cell_type": "code",
      "source": [
        "import numpy as np\n",
        "import pandas as pd\n",
        "from pandas import Series, DataFrame"
      ],
      "metadata": {
        "id": "mHSJpxu0VP7F"
      },
      "execution_count": 37,
      "outputs": []
    },
    {
      "cell_type": "code",
      "source": [
        "# Selecting and filtering US rows and columns.\n",
        "df.shape"
      ],
      "metadata": {
        "colab": {
          "base_uri": "https://localhost:8080/"
        },
        "id": "zvPRAuXRMPJb",
        "outputId": "0e0d5c9b-d00a-44ca-f1d5-2ec541ac50e8"
      },
      "execution_count": 38,
      "outputs": [
        {
          "output_type": "execute_result",
          "data": {
            "text/plain": [
              "(2364, 5)"
            ]
          },
          "metadata": {},
          "execution_count": 38
        }
      ]
    },
    {
      "cell_type": "code",
      "source": [
        "df.columns"
      ],
      "metadata": {
        "colab": {
          "base_uri": "https://localhost:8080/"
        },
        "id": "AVbqB16kZWWd",
        "outputId": "ac73c1ff-62a4-439c-8c0a-7c2058b5bb86"
      },
      "execution_count": 39,
      "outputs": [
        {
          "output_type": "execute_result",
          "data": {
            "text/plain": [
              "Index(['State', 'Country', 'Confirmed', 'Deaths', 'Recovered'], dtype='object')"
            ]
          },
          "metadata": {},
          "execution_count": 39
        }
      ]
    },
    {
      "cell_type": "code",
      "source": [
        "df.info(memory_usage='deep')"
      ],
      "metadata": {
        "colab": {
          "base_uri": "https://localhost:8080/"
        },
        "id": "PSeIlFHWqclZ",
        "outputId": "a64c1253-7210-4305-90c3-be340dd7ac4b"
      },
      "execution_count": 40,
      "outputs": [
        {
          "output_type": "stream",
          "name": "stdout",
          "text": [
            "<class 'pandas.core.frame.DataFrame'>\n",
            "Index: 2364 entries, 2020-06-04 00:00:00 to 2020-06-08 00:00:00\n",
            "Data columns (total 5 columns):\n",
            " #   Column     Non-Null Count  Dtype \n",
            "---  ------     --------------  ----- \n",
            " 0   State      2364 non-null   object\n",
            " 1   Country    2364 non-null   object\n",
            " 2   Confirmed  2364 non-null   int64 \n",
            " 3   Deaths     2364 non-null   int64 \n",
            " 4   Recovered  2364 non-null   int64 \n",
            "dtypes: int64(3), object(2)\n",
            "memory usage: 652.6 KB\n"
          ]
        }
      ]
    },
    {
      "cell_type": "markdown",
      "source": [
        "### Bootstrap Sampling in Python and generate random sample."
      ],
      "metadata": {
        "id": "lO9iYlUu5yfj"
      }
    },
    {
      "cell_type": "code",
      "source": [
        "arr=pd.read_csv('/content/forecasts_custom_prophet.csv',header=0, usecols = [\"Country/Region\",\"Confirmed\",\"Deaths\"])\n",
        "arr"
      ],
      "metadata": {
        "colab": {
          "base_uri": "https://localhost:8080/",
          "height": 424
        },
        "id": "Xu1jja_UTJAq",
        "outputId": "3e1ccf73-c5c1-494f-9bb0-96024cb04ce1"
      },
      "execution_count": 53,
      "outputs": [
        {
          "output_type": "execute_result",
          "data": {
            "text/plain": [
              "     Country/Region  Confirmed  Deaths\n",
              "0         Australia     4019.0    51.0\n",
              "1         Australia     4082.0    51.0\n",
              "2         Australia     4075.0    52.0\n",
              "3         Australia     4085.0    53.0\n",
              "4         Australia     4121.0    53.0\n",
              "...             ...        ...     ...\n",
              "4384              0        0.0     0.0\n",
              "4385              0        0.0     0.0\n",
              "4386              0        0.0     0.0\n",
              "4387              0        0.0     0.0\n",
              "4388              0        0.0     0.0\n",
              "\n",
              "[4389 rows x 3 columns]"
            ],
            "text/html": [
              "\n",
              "  <div id=\"df-4f1c8235-4258-4fc5-b987-714d522ff069\">\n",
              "    <div class=\"colab-df-container\">\n",
              "      <div>\n",
              "<style scoped>\n",
              "    .dataframe tbody tr th:only-of-type {\n",
              "        vertical-align: middle;\n",
              "    }\n",
              "\n",
              "    .dataframe tbody tr th {\n",
              "        vertical-align: top;\n",
              "    }\n",
              "\n",
              "    .dataframe thead th {\n",
              "        text-align: right;\n",
              "    }\n",
              "</style>\n",
              "<table border=\"1\" class=\"dataframe\">\n",
              "  <thead>\n",
              "    <tr style=\"text-align: right;\">\n",
              "      <th></th>\n",
              "      <th>Country/Region</th>\n",
              "      <th>Confirmed</th>\n",
              "      <th>Deaths</th>\n",
              "    </tr>\n",
              "  </thead>\n",
              "  <tbody>\n",
              "    <tr>\n",
              "      <th>0</th>\n",
              "      <td>Australia</td>\n",
              "      <td>4019.0</td>\n",
              "      <td>51.0</td>\n",
              "    </tr>\n",
              "    <tr>\n",
              "      <th>1</th>\n",
              "      <td>Australia</td>\n",
              "      <td>4082.0</td>\n",
              "      <td>51.0</td>\n",
              "    </tr>\n",
              "    <tr>\n",
              "      <th>2</th>\n",
              "      <td>Australia</td>\n",
              "      <td>4075.0</td>\n",
              "      <td>52.0</td>\n",
              "    </tr>\n",
              "    <tr>\n",
              "      <th>3</th>\n",
              "      <td>Australia</td>\n",
              "      <td>4085.0</td>\n",
              "      <td>53.0</td>\n",
              "    </tr>\n",
              "    <tr>\n",
              "      <th>4</th>\n",
              "      <td>Australia</td>\n",
              "      <td>4121.0</td>\n",
              "      <td>53.0</td>\n",
              "    </tr>\n",
              "    <tr>\n",
              "      <th>...</th>\n",
              "      <td>...</td>\n",
              "      <td>...</td>\n",
              "      <td>...</td>\n",
              "    </tr>\n",
              "    <tr>\n",
              "      <th>4384</th>\n",
              "      <td>0</td>\n",
              "      <td>0.0</td>\n",
              "      <td>0.0</td>\n",
              "    </tr>\n",
              "    <tr>\n",
              "      <th>4385</th>\n",
              "      <td>0</td>\n",
              "      <td>0.0</td>\n",
              "      <td>0.0</td>\n",
              "    </tr>\n",
              "    <tr>\n",
              "      <th>4386</th>\n",
              "      <td>0</td>\n",
              "      <td>0.0</td>\n",
              "      <td>0.0</td>\n",
              "    </tr>\n",
              "    <tr>\n",
              "      <th>4387</th>\n",
              "      <td>0</td>\n",
              "      <td>0.0</td>\n",
              "      <td>0.0</td>\n",
              "    </tr>\n",
              "    <tr>\n",
              "      <th>4388</th>\n",
              "      <td>0</td>\n",
              "      <td>0.0</td>\n",
              "      <td>0.0</td>\n",
              "    </tr>\n",
              "  </tbody>\n",
              "</table>\n",
              "<p>4389 rows × 3 columns</p>\n",
              "</div>\n",
              "      <button class=\"colab-df-convert\" onclick=\"convertToInteractive('df-4f1c8235-4258-4fc5-b987-714d522ff069')\"\n",
              "              title=\"Convert this dataframe to an interactive table.\"\n",
              "              style=\"display:none;\">\n",
              "        \n",
              "  <svg xmlns=\"http://www.w3.org/2000/svg\" height=\"24px\"viewBox=\"0 0 24 24\"\n",
              "       width=\"24px\">\n",
              "    <path d=\"M0 0h24v24H0V0z\" fill=\"none\"/>\n",
              "    <path d=\"M18.56 5.44l.94 2.06.94-2.06 2.06-.94-2.06-.94-.94-2.06-.94 2.06-2.06.94zm-11 1L8.5 8.5l.94-2.06 2.06-.94-2.06-.94L8.5 2.5l-.94 2.06-2.06.94zm10 10l.94 2.06.94-2.06 2.06-.94-2.06-.94-.94-2.06-.94 2.06-2.06.94z\"/><path d=\"M17.41 7.96l-1.37-1.37c-.4-.4-.92-.59-1.43-.59-.52 0-1.04.2-1.43.59L10.3 9.45l-7.72 7.72c-.78.78-.78 2.05 0 2.83L4 21.41c.39.39.9.59 1.41.59.51 0 1.02-.2 1.41-.59l7.78-7.78 2.81-2.81c.8-.78.8-2.07 0-2.86zM5.41 20L4 18.59l7.72-7.72 1.47 1.35L5.41 20z\"/>\n",
              "  </svg>\n",
              "      </button>\n",
              "      \n",
              "  <style>\n",
              "    .colab-df-container {\n",
              "      display:flex;\n",
              "      flex-wrap:wrap;\n",
              "      gap: 12px;\n",
              "    }\n",
              "\n",
              "    .colab-df-convert {\n",
              "      background-color: #E8F0FE;\n",
              "      border: none;\n",
              "      border-radius: 50%;\n",
              "      cursor: pointer;\n",
              "      display: none;\n",
              "      fill: #1967D2;\n",
              "      height: 32px;\n",
              "      padding: 0 0 0 0;\n",
              "      width: 32px;\n",
              "    }\n",
              "\n",
              "    .colab-df-convert:hover {\n",
              "      background-color: #E2EBFA;\n",
              "      box-shadow: 0px 1px 2px rgba(60, 64, 67, 0.3), 0px 1px 3px 1px rgba(60, 64, 67, 0.15);\n",
              "      fill: #174EA6;\n",
              "    }\n",
              "\n",
              "    [theme=dark] .colab-df-convert {\n",
              "      background-color: #3B4455;\n",
              "      fill: #D2E3FC;\n",
              "    }\n",
              "\n",
              "    [theme=dark] .colab-df-convert:hover {\n",
              "      background-color: #434B5C;\n",
              "      box-shadow: 0px 1px 3px 1px rgba(0, 0, 0, 0.15);\n",
              "      filter: drop-shadow(0px 1px 2px rgba(0, 0, 0, 0.3));\n",
              "      fill: #FFFFFF;\n",
              "    }\n",
              "  </style>\n",
              "\n",
              "      <script>\n",
              "        const buttonEl =\n",
              "          document.querySelector('#df-4f1c8235-4258-4fc5-b987-714d522ff069 button.colab-df-convert');\n",
              "        buttonEl.style.display =\n",
              "          google.colab.kernel.accessAllowed ? 'block' : 'none';\n",
              "\n",
              "        async function convertToInteractive(key) {\n",
              "          const element = document.querySelector('#df-4f1c8235-4258-4fc5-b987-714d522ff069');\n",
              "          const dataTable =\n",
              "            await google.colab.kernel.invokeFunction('convertToInteractive',\n",
              "                                                     [key], {});\n",
              "          if (!dataTable) return;\n",
              "\n",
              "          const docLinkHtml = 'Like what you see? Visit the ' +\n",
              "            '<a target=\"_blank\" href=https://colab.research.google.com/notebooks/data_table.ipynb>data table notebook</a>'\n",
              "            + ' to learn more about interactive tables.';\n",
              "          element.innerHTML = '';\n",
              "          dataTable['output_type'] = 'display_data';\n",
              "          await google.colab.output.renderOutput(dataTable, element);\n",
              "          const docLink = document.createElement('div');\n",
              "          docLink.innerHTML = docLinkHtml;\n",
              "          element.appendChild(docLink);\n",
              "        }\n",
              "      </script>\n",
              "    </div>\n",
              "  </div>\n",
              "  "
            ]
          },
          "metadata": {},
          "execution_count": 53
        }
      ]
    },
    {
      "cell_type": "code",
      "source": [
        "arr.shape"
      ],
      "metadata": {
        "colab": {
          "base_uri": "https://localhost:8080/"
        },
        "id": "JRsQmbWgagZp",
        "outputId": "f75854b2-de12-433f-c400-fb5299b58b43"
      },
      "execution_count": 54,
      "outputs": [
        {
          "output_type": "execute_result",
          "data": {
            "text/plain": [
              "(4389, 3)"
            ]
          },
          "metadata": {},
          "execution_count": 54
        }
      ]
    },
    {
      "cell_type": "code",
      "source": [
        "arr= arr.rename(columns={'Country/Region':'Country'})"
      ],
      "metadata": {
        "id": "LFrwzB4IulVB"
      },
      "execution_count": 57,
      "outputs": []
    },
    {
      "cell_type": "code",
      "source": [
        "arr.Country.unique()"
      ],
      "metadata": {
        "colab": {
          "base_uri": "https://localhost:8080/"
        },
        "id": "_oJIPYvDszrM",
        "outputId": "7274bf7d-6e52-4849-83b8-f34c49303e0f"
      },
      "execution_count": 59,
      "outputs": [
        {
          "output_type": "execute_result",
          "data": {
            "text/plain": [
              "array(['Australia', '0', 'Brazil', 'Canada', 'Chile', 'Colombia',\n",
              "       'Denmark', 'France', 'Germany', 'Hong Kong', 'Italy', 'Japan',\n",
              "       'Macau', 'Mainland China', 'Mexico', 'Netherlands', 'Peru',\n",
              "       'Russia', 'Spain', 'UK', 'US', 'Ukraine'], dtype=object)"
            ]
          },
          "metadata": {},
          "execution_count": 59
        }
      ]
    },
    {
      "cell_type": "code",
      "source": [
        "arr_data_list = ['US']\n",
        "arr_us = arr[arr.Country.isin(arr_data_list)]\n",
        "print(arr_us)"
      ],
      "metadata": {
        "colab": {
          "base_uri": "https://localhost:8080/"
        },
        "id": "c7CNWGyIvPrF",
        "outputId": "81cc2ea9-894b-4820-bef2-801be1bd736d"
      },
      "execution_count": 61,
      "outputs": [
        {
          "output_type": "stream",
          "name": "stdout",
          "text": [
            "     Country  Confirmed  Deaths\n",
            "2947      US    22773.0  1151.0\n",
            "2948      US    23099.0  1165.0\n",
            "2949      US    23485.0  1181.0\n",
            "2950      US    23809.0  1187.0\n",
            "2951      US    24032.0  1195.0\n",
            "...      ...        ...     ...\n",
            "4195      US        0.0     0.0\n",
            "4196      US        0.0     0.0\n",
            "4197      US        0.0     0.0\n",
            "4198      US        0.0     0.0\n",
            "4199      US        0.0     0.0\n",
            "\n",
            "[1019 rows x 3 columns]\n"
          ]
        }
      ]
    },
    {
      "cell_type": "code",
      "source": [
        "# remove decimals in Confirmed, Deaths variables.\n",
        "arr_us.Confirmed = arr_us.Confirmed.apply(int)\n",
        "arr_us.Deaths = arr_us.Deaths.apply(int)\n",
        "print(arr_us)"
      ],
      "metadata": {
        "colab": {
          "base_uri": "https://localhost:8080/"
        },
        "id": "dl8daeaX1_LG",
        "outputId": "b7667f82-06ae-4a01-89d1-b3db5e7ebeb6"
      },
      "execution_count": 71,
      "outputs": [
        {
          "output_type": "stream",
          "name": "stdout",
          "text": [
            "     Country  Confirmed  Deaths\n",
            "2947      US      22773    1151\n",
            "2948      US      23099    1165\n",
            "2949      US      23485    1181\n",
            "2950      US      23809    1187\n",
            "2951      US      24032    1195\n",
            "...      ...        ...     ...\n",
            "4195      US          0       0\n",
            "4196      US          0       0\n",
            "4197      US          0       0\n",
            "4198      US          0       0\n",
            "4199      US          0       0\n",
            "\n",
            "[1019 rows x 3 columns]\n"
          ]
        },
        {
          "output_type": "stream",
          "name": "stderr",
          "text": [
            "/usr/local/lib/python3.7/dist-packages/pandas/core/generic.py:5516: SettingWithCopyWarning: \n",
            "A value is trying to be set on a copy of a slice from a DataFrame.\n",
            "Try using .loc[row_indexer,col_indexer] = value instead\n",
            "\n",
            "See the caveats in the documentation: https://pandas.pydata.org/pandas-docs/stable/user_guide/indexing.html#returning-a-view-versus-a-copy\n",
            "  self[name] = value\n"
          ]
        }
      ]
    },
    {
      "cell_type": "code",
      "source": [
        "coltolist1 = arr_us['Confirmed'].unique()\n",
        "coltolist1"
      ],
      "metadata": {
        "id": "C1Spemb80aLO"
      },
      "execution_count": null,
      "outputs": []
    },
    {
      "cell_type": "code",
      "source": [
        "from scipy.stats import bootstrap\n",
        "import numpy as np\n",
        "import random"
      ],
      "metadata": {
        "id": "V-qPk4fska2J"
      },
      "execution_count": 86,
      "outputs": []
    },
    {
      "cell_type": "code",
      "source": [
        "np.mean(coltolist1)"
      ],
      "metadata": {
        "colab": {
          "base_uri": "https://localhost:8080/"
        },
        "id": "6QZgTtH62nQG",
        "outputId": "c9439942-8afe-4e5f-b441-359de85eba83"
      },
      "execution_count": 87,
      "outputs": [
        {
          "output_type": "execute_result",
          "data": {
            "text/plain": [
              "28564.745614035088"
            ]
          },
          "metadata": {},
          "execution_count": 87
        }
      ]
    },
    {
      "cell_type": "code",
      "source": [
        "sample_mean = []\n",
        "for i in range(1000):\n",
        "  y=random.sample(coltolist1.tolist(),4)\n",
        "  avg = np.mean(y)\n",
        "  sample_mean.append(avg)"
      ],
      "metadata": {
        "id": "ttkrotOz24we"
      },
      "execution_count": 78,
      "outputs": []
    },
    {
      "cell_type": "code",
      "source": [
        "print(np.mean(sample_mean))"
      ],
      "metadata": {
        "colab": {
          "base_uri": "https://localhost:8080/"
        },
        "id": "nj0tKFQ_4Lo4",
        "outputId": "4723e6fc-45d9-43de-b5cc-6273e08b539a"
      },
      "execution_count": 85,
      "outputs": [
        {
          "output_type": "stream",
          "name": "stdout",
          "text": [
            "27190.07725\n"
          ]
        }
      ]
    },
    {
      "cell_type": "code",
      "source": [
        "\n",
        "#convert array to sequence\n",
        "coltolist1 = (coltolist1,)\n",
        "\n",
        "#calculate 95% bootstrapped confidence interval for median\n",
        "bootstrap_ci = bootstrap(coltolist1, np.median, confidence_level=0.95,\n",
        "                         random_state=1, method='percentile')\n",
        "\n",
        "#view 95% boostrapped confidence interval\n",
        "print(bootstrap_ci.confidence_interval)\n"
      ],
      "metadata": {
        "colab": {
          "base_uri": "https://localhost:8080/"
        },
        "id": "LCO8hscykrmG",
        "outputId": "16dae3c1-f264-4f3e-ddd0-3017a79451fe"
      },
      "execution_count": 90,
      "outputs": [
        {
          "output_type": "stream",
          "name": "stdout",
          "text": [
            "ConfidenceInterval(low=8811.0, high=11520.5)\n"
          ]
        }
      ]
    },
    {
      "cell_type": "markdown",
      "source": [
        "## 6. The sample size should be about 10% of the data. Use random sampling for the rows."
      ],
      "metadata": {
        "id": "s-Jck9U3DzZU"
      }
    },
    {
      "cell_type": "code",
      "source": [
        "subset = df.sample(frac=0.1) #created subset of data using 10% sample size of data\n",
        "print(subset)"
      ],
      "metadata": {
        "id": "uMl59WMbEFrb",
        "colab": {
          "base_uri": "https://localhost:8080/"
        },
        "outputId": "0b18c837-d64a-4958-b101-b5d7d44b50b9"
      },
      "execution_count": 82,
      "outputs": [
        {
          "output_type": "stream",
          "name": "stdout",
          "text": [
            "                                           State  Country  Confirmed  Deaths  \\\n",
            "ObservationDate                                                                \n",
            "2020-06-04 00:00:00                       Kagawa    Japan         28       0   \n",
            "2020-06-05 00:00:00                      Mayotte   France       2054      27   \n",
            "2020-06-06 00:00:00             Karelia Republic   Russia       3590      23   \n",
            "2020-06-10 00:00:00  Falkland Islands (Malvinas)       UK         13       0   \n",
            "2020-06-08 00:00:00                 North Dakota       US       2926      72   \n",
            "...                                          ...      ...        ...     ...   \n",
            "2020-06-10 00:00:00                    Greenland  Denmark         12       0   \n",
            "2020-03-11 00:00:00           Chatham County, NC       US          1       0   \n",
            "2020-03-16 00:00:00        Williamson County, TN       US          1       0   \n",
            "2020-06-10 00:00:00                   New Jersey       US     169661   12602   \n",
            "2020-06-09 00:00:00                   Guadeloupe   France        166      16   \n",
            "\n",
            "                     Recovered  \n",
            "ObservationDate                 \n",
            "2020-06-04 00:00:00         28  \n",
            "2020-06-05 00:00:00       1647  \n",
            "2020-06-06 00:00:00        748  \n",
            "2020-06-10 00:00:00         16  \n",
            "2020-06-08 00:00:00          0  \n",
            "...                        ...  \n",
            "2020-06-10 00:00:00         14  \n",
            "2020-03-11 00:00:00          0  \n",
            "2020-03-16 00:00:00          0  \n",
            "2020-06-10 00:00:00          0  \n",
            "2020-06-09 00:00:00        144  \n",
            "\n",
            "[236 rows x 5 columns]\n"
          ]
        }
      ]
    },
    {
      "cell_type": "code",
      "source": [
        "subset.Country.value_counts() #value counts for each country"
      ],
      "metadata": {
        "colab": {
          "base_uri": "https://localhost:8080/"
        },
        "id": "e1qgmcSxwn5S",
        "outputId": "7bbd7899-35a9-479b-e7b1-033d6573f311"
      },
      "execution_count": 83,
      "outputs": [
        {
          "output_type": "execute_result",
          "data": {
            "text/plain": [
              "US                111\n",
              "Japan              19\n",
              "Mainland China     17\n",
              "UK                 10\n",
              "Canada              9\n",
              "Russia              8\n",
              "Colombia            8\n",
              "France              7\n",
              "Australia           6\n",
              "Chile               6\n",
              "Ukraine             6\n",
              "Italy               5\n",
              "Spain               4\n",
              "Brazil              4\n",
              "Netherlands         4\n",
              "Mexico              4\n",
              "Denmark             3\n",
              "Germany             2\n",
              "Peru                2\n",
              "Hong Kong           1\n",
              "Name: Country, dtype: int64"
            ]
          },
          "metadata": {},
          "execution_count": 83
        }
      ]
    },
    {
      "cell_type": "code",
      "source": [
        "subset.Country.value_counts().plot(kind='bar') #plotted subset of confirmed cases"
      ],
      "metadata": {
        "colab": {
          "base_uri": "https://localhost:8080/",
          "height": 351
        },
        "id": "nVowyjd8wIbH",
        "outputId": "922a2edd-ac5e-40b3-eb80-05504ef5b1b3"
      },
      "execution_count": 84,
      "outputs": [
        {
          "output_type": "execute_result",
          "data": {
            "text/plain": [
              "<matplotlib.axes._subplots.AxesSubplot at 0x7f47e88a6f10>"
            ]
          },
          "metadata": {},
          "execution_count": 84
        },
        {
          "output_type": "display_data",
          "data": {
            "text/plain": [
              "<Figure size 432x288 with 1 Axes>"
            ],
            "image/png": "[encoded data removed]"
          },
          "metadata": {
            "needs_background": "light"
          }
        }
      ]
    },
    {
      "cell_type": "markdown",
      "source": [
        "## 7. Submit a link to the GitHub RUR."
      ],
      "metadata": {
        "id": "KdWYsswnEGJ3"
      }
    },
    {
      "cell_type": "markdown",
      "source": [],
      "metadata": {
        "id": "d1ucKO2jEL_D"
      }
    },
    {
      "cell_type": "markdown",
      "source": [
        "## 8. Present in the class"
      ],
      "metadata": {
        "id": "Op9xKlvmEMzt"
      }
    }
  ]
}