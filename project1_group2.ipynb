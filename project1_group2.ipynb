{
  "nbformat": 4,
  "nbformat_minor": 0,
  "metadata": {
    "colab": {
      "provenance": [],
      "collapsed_sections": [
        "G6p9YFR9BMES",
        "Tx_hWYZBOKk_",
        "dU6Oa4EK7Tu2",
        "H6khbpfx7H6F"
      ]
    },
    "kernelspec": {
      "name": "python3",
      "display_name": "Python 3"
    },
    "language_info": {
      "name": "python"
    }
  },
  "cells": [
    {
      "cell_type": "markdown",
      "source": [
        "## Introduction: Give the details on the source of your data, its content, and some questions you are interested in. The data should have at least 1000 rows and 4 columns.\n",
        "\n",
        "#### This dataset contains data regarding recorded cases of Coronavirus between January 2020 and June 2020 from Kaggle. \n",
        "#### It contains 4389 rows and 6 columns. A single row reflects the amount of confirmed cases, deaths, and the amount of people confirmed to have recovered from the virus in a single state/country on a single observed date.\n",
        "#### Our group will present Coronavirus tracking the number of confirmed cases, Death toll and Recovered patients in USA. \n",
        "\n",
        "\n",
        "#### Source: https://www.kaggle.com/code/khoongweihao/covid-19-novel-coronavirus-eda-forecasting-cases/notebook\n",
        "\n",
        "\n",
        "### Variables in this dataset:\n",
        "\n",
        "*   ObservationDate - dates of reported cases\n",
        "*   Province/State \n",
        "*   Country/Region\n",
        "*   Confirmed - confirmed cases reported\n",
        "*   Deaths - number of deaths recorded\n",
        "*   Recovered - number of recovered people\n",
        "\n",
        "### Questions we explored:\n",
        "\n",
        "*   How did the United States' number of confirmed cases, deaths, and recoveries compare to other countries?\n",
        "*   How did the amount of cases change over time?\n",
        "*   What was a sample amount of cases for the period of time?\n",
        "\n",
        "\n",
        "\n"
      ],
      "metadata": {
        "id": "6RPV2E2PC227"
      }
    },
    {
      "cell_type": "markdown",
      "source": [
        "## Prepare and wrangle your data with Pandas and Numpy."
      ],
      "metadata": {
        "id": "Krjsxg2JseoN"
      }
    },
    {
      "cell_type": "code",
      "source": [
        "# Libraries\n",
        "import numpy as np\n",
        "import pandas as pd\n",
        "import matplotlib.pyplot as plt\n",
        "import seaborn as sns\n",
        "import plotly.graph_objs as go"
      ],
      "metadata": {
        "id": "kuZ9Iq8Ugvz5"
      },
      "execution_count": null,
      "outputs": []
    },
    {
      "cell_type": "markdown",
      "source": [
        "#### I have introduced two different methods to import a dataset. \n",
        "##### Method 1: Downloading a dataset  in the notebook document on Google Colab."
      ],
      "metadata": {
        "id": "vUjIMPpKnATF"
      }
    },
    {
      "cell_type": "code",
      "execution_count": null,
      "metadata": {
        "id": "PPTP6exCa3YR"
      },
      "outputs": [],
      "source": [
        "# Upload your dataset to Google Colab Notebook and import \n",
        "df = pd.read_csv( r'/content/forecasts_custom_prophet.csv')"
      ]
    },
    {
      "cell_type": "markdown",
      "source": [
        "##### Method 2: Mounting Drive to import a dataset."
      ],
      "metadata": {
        "id": "vk9V1BnAVQqx"
      }
    },
    {
      "cell_type": "code",
      "source": [
        "# get the numbers of rows and columns.\n",
        "print(\"dimensions of the group2 dataframe = \",df.shape)"
      ],
      "metadata": {
        "colab": {
          "base_uri": "https://localhost:8080/"
        },
        "id": "aAkd9gQn-e_N",
        "outputId": "f3ca31ea-31c4-4af8-94ed-ea2f4844fae9"
      },
      "execution_count": null,
      "outputs": [
        {
          "output_type": "stream",
          "name": "stdout",
          "text": [
            "dimensions of the group2 dataframe =  (4389, 6)\n"
          ]
        }
      ]
    },
    {
      "cell_type": "code",
      "source": [
        "# list data types of the dataframe.\n",
        "df.dtypes"
      ],
      "metadata": {
        "colab": {
          "base_uri": "https://localhost:8080/"
        },
        "id": "D78RGeYQK5a-",
        "outputId": "78c27ea5-187c-4173-d79d-0bc3f65735f7"
      },
      "execution_count": null,
      "outputs": [
        {
          "output_type": "execute_result",
          "data": {
            "text/plain": [
              "ObservationDate     object\n",
              "Province/State      object\n",
              "Country/Region      object\n",
              "Confirmed          float64\n",
              "Deaths             float64\n",
              "Recovered          float64\n",
              "dtype: object"
            ]
          },
          "metadata": {},
          "execution_count": 57
        }
      ]
    },
    {
      "cell_type": "code",
      "source": [
        "# Check how many null values in the dataset and output.\n",
        "print('Number of null/NaN values in df: ',df.isnull().values.sum())"
      ],
      "metadata": {
        "colab": {
          "base_uri": "https://localhost:8080/"
        },
        "id": "Y7NX7yUKvQCW",
        "outputId": "c371d601-258b-4d7d-f831-8803208df829"
      },
      "execution_count": null,
      "outputs": [
        {
          "output_type": "stream",
          "name": "stdout",
          "text": [
            "Number of null/NaN values in df:  0\n"
          ]
        }
      ]
    },
    {
      "cell_type": "code",
      "source": [
        "# Remove the count column from the dataframe\n",
        "df = df.set_index('ObservationDate')\n",
        "print(df)"
      ],
      "metadata": {
        "colab": {
          "base_uri": "https://localhost:8080/"
        },
        "id": "IAY-nQuawQu5",
        "outputId": "a3eb1a6e-4aa2-4d39-b2a2-fde72945eefc"
      },
      "execution_count": null,
      "outputs": [
        {
          "output_type": "stream",
          "name": "stdout",
          "text": [
            "                      Province/State Country/Region  Confirmed  Deaths  \\\n",
            "ObservationDate                                                          \n",
            "2020-06-04 00:00:00  New South Wales      Australia     4019.0    51.0   \n",
            "2020-06-05 00:00:00  New South Wales      Australia     4082.0    51.0   \n",
            "2020-06-06 00:00:00  New South Wales      Australia     4075.0    52.0   \n",
            "2020-06-07 00:00:00  New South Wales      Australia     4085.0    53.0   \n",
            "2020-06-08 00:00:00  New South Wales      Australia     4121.0    53.0   \n",
            "...                              ...            ...        ...     ...   \n",
            "0                                  0              0        0.0     0.0   \n",
            "0                                  0              0        0.0     0.0   \n",
            "0                                  0              0        0.0     0.0   \n",
            "0                                  0              0        0.0     0.0   \n",
            "0                                  0              0        0.0     0.0   \n",
            "\n",
            "                     Recovered  \n",
            "ObservationDate                 \n",
            "2020-06-04 00:00:00     3321.0  \n",
            "2020-06-05 00:00:00     3465.0  \n",
            "2020-06-06 00:00:00     3494.0  \n",
            "2020-06-07 00:00:00     3493.0  \n",
            "2020-06-08 00:00:00     3480.0  \n",
            "...                        ...  \n",
            "0                          0.0  \n",
            "0                          0.0  \n",
            "0                          0.0  \n",
            "0                          0.0  \n",
            "0                          0.0  \n",
            "\n",
            "[4389 rows x 5 columns]\n"
          ]
        }
      ]
    },
    {
      "cell_type": "code",
      "source": [
        "# remove decimals in Confirmed, Deaths and Recovered variables.\n",
        "df.Confirmed = df.Confirmed.apply(int)\n",
        "df.Deaths = df.Deaths.apply(int)\n",
        "df.Recovered = df.Recovered.apply(int)\n",
        "print(df)"
      ],
      "metadata": {
        "colab": {
          "base_uri": "https://localhost:8080/"
        },
        "id": "pkO2hqS0vd7-",
        "outputId": "d0ecffd7-90d6-4f26-a60a-ae7b600b17c2"
      },
      "execution_count": null,
      "outputs": [
        {
          "output_type": "stream",
          "name": "stdout",
          "text": [
            "                      Province/State Country/Region  Confirmed  Deaths  \\\n",
            "ObservationDate                                                          \n",
            "2020-06-04 00:00:00  New South Wales      Australia       4019      51   \n",
            "2020-06-05 00:00:00  New South Wales      Australia       4082      51   \n",
            "2020-06-06 00:00:00  New South Wales      Australia       4075      52   \n",
            "2020-06-07 00:00:00  New South Wales      Australia       4085      53   \n",
            "2020-06-08 00:00:00  New South Wales      Australia       4121      53   \n",
            "...                              ...            ...        ...     ...   \n",
            "0                                  0              0          0       0   \n",
            "0                                  0              0          0       0   \n",
            "0                                  0              0          0       0   \n",
            "0                                  0              0          0       0   \n",
            "0                                  0              0          0       0   \n",
            "\n",
            "                     Recovered  \n",
            "ObservationDate                 \n",
            "2020-06-04 00:00:00       3321  \n",
            "2020-06-05 00:00:00       3465  \n",
            "2020-06-06 00:00:00       3494  \n",
            "2020-06-07 00:00:00       3493  \n",
            "2020-06-08 00:00:00       3480  \n",
            "...                        ...  \n",
            "0                            0  \n",
            "0                            0  \n",
            "0                            0  \n",
            "0                            0  \n",
            "0                            0  \n",
            "\n",
            "[4389 rows x 5 columns]\n"
          ]
        }
      ]
    },
    {
      "cell_type": "code",
      "source": [
        "# Rename all the column heads.\n",
        "df= df.rename(columns={'ObservationDate':'Date','Province/State':'State','Country/Region':'Country'})"
      ],
      "metadata": {
        "id": "mWboNpP2yeF9"
      },
      "execution_count": null,
      "outputs": []
    },
    {
      "cell_type": "code",
      "source": [
        "# Find 0 values in the dataset.In Region, there is 0 values.\n",
        "\n",
        "df['Country'].unique()"
      ],
      "metadata": {
        "colab": {
          "base_uri": "https://localhost:8080/"
        },
        "id": "Q3RZPgZ1j7ZC",
        "outputId": "af5ff6fc-c784-4a29-c90e-d340a9a4331f"
      },
      "execution_count": null,
      "outputs": [
        {
          "output_type": "execute_result",
          "data": {
            "text/plain": [
              "array(['Australia', '0', 'Brazil', 'Canada', 'Chile', 'Colombia',\n",
              "       'Denmark', 'France', 'Germany', 'Hong Kong', 'Italy', 'Japan',\n",
              "       'Macau', 'Mainland China', 'Mexico', 'Netherlands', 'Peru',\n",
              "       'Russia', 'Spain', 'UK', 'US', 'Ukraine'], dtype=object)"
            ]
          },
          "metadata": {},
          "execution_count": 62
        }
      ]
    },
    {
      "cell_type": "code",
      "source": [
        "# drop rows by condition. Countries with \"0\" are removed.\n",
        "df=df[df.Country !='0']"
      ],
      "metadata": {
        "id": "7FX3v3jiNEDg"
      },
      "execution_count": null,
      "outputs": []
    },
    {
      "cell_type": "markdown",
      "source": [
        "## Use EDA principles and the Matplotlib/Seaborn packages to visualize the data."
      ],
      "metadata": {
        "id": "hzWzW8ZqxRNj"
      }
    },
    {
      "cell_type": "code",
      "source": [
        "print(\"Number of rows and colummns in our df after drop 0 = \", df.shape)"
      ],
      "metadata": {
        "colab": {
          "base_uri": "https://localhost:8080/"
        },
        "id": "0a4c7CPkNoTe",
        "outputId": "86ed404e-c77f-44f4-c220-e1fd42640455"
      },
      "execution_count": null,
      "outputs": [
        {
          "output_type": "stream",
          "name": "stdout",
          "text": [
            "Number of rows and colummns in our df after drop 0 =  (2364, 5)\n"
          ]
        }
      ]
    },
    {
      "cell_type": "code",
      "source": [
        "# Print the dataset.\n",
        "df.head()"
      ],
      "metadata": {
        "colab": {
          "base_uri": "https://localhost:8080/",
          "height": 237
        },
        "id": "2J_QSBWZw98O",
        "outputId": "91d6795d-6626-4e14-e1ca-bd57aca253d2"
      },
      "execution_count": null,
      "outputs": [
        {
          "output_type": "execute_result",
          "data": {
            "text/plain": [
              "                               State    Country  Confirmed  Deaths  Recovered\n",
              "ObservationDate                                                              \n",
              "2020-06-04 00:00:00  New South Wales  Australia       4019      51       3321\n",
              "2020-06-05 00:00:00  New South Wales  Australia       4082      51       3465\n",
              "2020-06-06 00:00:00  New South Wales  Australia       4075      52       3494\n",
              "2020-06-07 00:00:00  New South Wales  Australia       4085      53       3493\n",
              "2020-06-08 00:00:00  New South Wales  Australia       4121      53       3480"
            ],
            "text/html": [
              "\n",
              "  <div id=\"df-2f897185-49f3-4788-a0ca-044bf1b5393c\">\n",
              "    <div class=\"colab-df-container\">\n",
              "      <div>\n",
              "<style scoped>\n",
              "    .dataframe tbody tr th:only-of-type {\n",
              "        vertical-align: middle;\n",
              "    }\n",
              "\n",
              "    .dataframe tbody tr th {\n",
              "        vertical-align: top;\n",
              "    }\n",
              "\n",
              "    .dataframe thead th {\n",
              "        text-align: right;\n",
              "    }\n",
              "</style>\n",
              "<table border=\"1\" class=\"dataframe\">\n",
              "  <thead>\n",
              "    <tr style=\"text-align: right;\">\n",
              "      <th></th>\n",
              "      <th>State</th>\n",
              "      <th>Country</th>\n",
              "      <th>Confirmed</th>\n",
              "      <th>Deaths</th>\n",
              "      <th>Recovered</th>\n",
              "    </tr>\n",
              "    <tr>\n",
              "      <th>ObservationDate</th>\n",
              "      <th></th>\n",
              "      <th></th>\n",
              "      <th></th>\n",
              "      <th></th>\n",
              "      <th></th>\n",
              "    </tr>\n",
              "  </thead>\n",
              "  <tbody>\n",
              "    <tr>\n",
              "      <th>2020-06-04 00:00:00</th>\n",
              "      <td>New South Wales</td>\n",
              "      <td>Australia</td>\n",
              "      <td>4019</td>\n",
              "      <td>51</td>\n",
              "      <td>3321</td>\n",
              "    </tr>\n",
              "    <tr>\n",
              "      <th>2020-06-05 00:00:00</th>\n",
              "      <td>New South Wales</td>\n",
              "      <td>Australia</td>\n",
              "      <td>4082</td>\n",
              "      <td>51</td>\n",
              "      <td>3465</td>\n",
              "    </tr>\n",
              "    <tr>\n",
              "      <th>2020-06-06 00:00:00</th>\n",
              "      <td>New South Wales</td>\n",
              "      <td>Australia</td>\n",
              "      <td>4075</td>\n",
              "      <td>52</td>\n",
              "      <td>3494</td>\n",
              "    </tr>\n",
              "    <tr>\n",
              "      <th>2020-06-07 00:00:00</th>\n",
              "      <td>New South Wales</td>\n",
              "      <td>Australia</td>\n",
              "      <td>4085</td>\n",
              "      <td>53</td>\n",
              "      <td>3493</td>\n",
              "    </tr>\n",
              "    <tr>\n",
              "      <th>2020-06-08 00:00:00</th>\n",
              "      <td>New South Wales</td>\n",
              "      <td>Australia</td>\n",
              "      <td>4121</td>\n",
              "      <td>53</td>\n",
              "      <td>3480</td>\n",
              "    </tr>\n",
              "  </tbody>\n",
              "</table>\n",
              "</div>\n",
              "      <button class=\"colab-df-convert\" onclick=\"convertToInteractive('df-2f897185-49f3-4788-a0ca-044bf1b5393c')\"\n",
              "              title=\"Convert this dataframe to an interactive table.\"\n",
              "              style=\"display:none;\">\n",
              "        \n",
              "  <svg xmlns=\"http://www.w3.org/2000/svg\" height=\"24px\"viewBox=\"0 0 24 24\"\n",
              "       width=\"24px\">\n",
              "    <path d=\"M0 0h24v24H0V0z\" fill=\"none\"/>\n",
              "    <path d=\"M18.56 5.44l.94 2.06.94-2.06 2.06-.94-2.06-.94-.94-2.06-.94 2.06-2.06.94zm-11 1L8.5 8.5l.94-2.06 2.06-.94-2.06-.94L8.5 2.5l-.94 2.06-2.06.94zm10 10l.94 2.06.94-2.06 2.06-.94-2.06-.94-.94-2.06-.94 2.06-2.06.94z\"/><path d=\"M17.41 7.96l-1.37-1.37c-.4-.4-.92-.59-1.43-.59-.52 0-1.04.2-1.43.59L10.3 9.45l-7.72 7.72c-.78.78-.78 2.05 0 2.83L4 21.41c.39.39.9.59 1.41.59.51 0 1.02-.2 1.41-.59l7.78-7.78 2.81-2.81c.8-.78.8-2.07 0-2.86zM5.41 20L4 18.59l7.72-7.72 1.47 1.35L5.41 20z\"/>\n",
              "  </svg>\n",
              "      </button>\n",
              "      \n",
              "  <style>\n",
              "    .colab-df-container {\n",
              "      display:flex;\n",
              "      flex-wrap:wrap;\n",
              "      gap: 12px;\n",
              "    }\n",
              "\n",
              "    .colab-df-convert {\n",
              "      background-color: #E8F0FE;\n",
              "      border: none;\n",
              "      border-radius: 50%;\n",
              "      cursor: pointer;\n",
              "      display: none;\n",
              "      fill: #1967D2;\n",
              "      height: 32px;\n",
              "      padding: 0 0 0 0;\n",
              "      width: 32px;\n",
              "    }\n",
              "\n",
              "    .colab-df-convert:hover {\n",
              "      background-color: #E2EBFA;\n",
              "      box-shadow: 0px 1px 2px rgba(60, 64, 67, 0.3), 0px 1px 3px 1px rgba(60, 64, 67, 0.15);\n",
              "      fill: #174EA6;\n",
              "    }\n",
              "\n",
              "    [theme=dark] .colab-df-convert {\n",
              "      background-color: #3B4455;\n",
              "      fill: #D2E3FC;\n",
              "    }\n",
              "\n",
              "    [theme=dark] .colab-df-convert:hover {\n",
              "      background-color: #434B5C;\n",
              "      box-shadow: 0px 1px 3px 1px rgba(0, 0, 0, 0.15);\n",
              "      filter: drop-shadow(0px 1px 2px rgba(0, 0, 0, 0.3));\n",
              "      fill: #FFFFFF;\n",
              "    }\n",
              "  </style>\n",
              "\n",
              "      <script>\n",
              "        const buttonEl =\n",
              "          document.querySelector('#df-2f897185-49f3-4788-a0ca-044bf1b5393c button.colab-df-convert');\n",
              "        buttonEl.style.display =\n",
              "          google.colab.kernel.accessAllowed ? 'block' : 'none';\n",
              "\n",
              "        async function convertToInteractive(key) {\n",
              "          const element = document.querySelector('#df-2f897185-49f3-4788-a0ca-044bf1b5393c');\n",
              "          const dataTable =\n",
              "            await google.colab.kernel.invokeFunction('convertToInteractive',\n",
              "                                                     [key], {});\n",
              "          if (!dataTable) return;\n",
              "\n",
              "          const docLinkHtml = 'Like what you see? Visit the ' +\n",
              "            '<a target=\"_blank\" href=https://colab.research.google.com/notebooks/data_table.ipynb>data table notebook</a>'\n",
              "            + ' to learn more about interactive tables.';\n",
              "          element.innerHTML = '';\n",
              "          dataTable['output_type'] = 'display_data';\n",
              "          await google.colab.output.renderOutput(dataTable, element);\n",
              "          const docLink = document.createElement('div');\n",
              "          docLink.innerHTML = docLinkHtml;\n",
              "          element.appendChild(docLink);\n",
              "        }\n",
              "      </script>\n",
              "    </div>\n",
              "  </div>\n",
              "  "
            ]
          },
          "metadata": {},
          "execution_count": 65
        }
      ]
    },
    {
      "cell_type": "code",
      "source": [
        "#df.describe(include='all')\n",
        "# Remove null values to avoid errors:\n",
        "df.dropna(inplace = True)\n",
        "# Find the quartiles 25th, 50th and 75th percentiles of the array:\n",
        "perc = [0.25,0.5,0.75]\n",
        "# Describe our data frame with both object and numeric data type:\n",
        "include = ['object','float','int']\n",
        "desc = df.describe(percentiles=perc, include=include)\n",
        "desc"
      ],
      "metadata": {
        "colab": {
          "base_uri": "https://localhost:8080/",
          "height": 394
        },
        "id": "7HWnAW0zWryy",
        "outputId": "cea87f0c-63be-48ce-a6e1-54f4d96a5f05"
      },
      "execution_count": null,
      "outputs": [
        {
          "output_type": "execute_result",
          "data": {
            "text/plain": [
              "          State Country     Confirmed         Deaths     Recovered\n",
              "count      2364    2364  2.364000e+03    2364.000000  2.364000e+03\n",
              "unique      532      21           NaN            NaN           NaN\n",
              "top     Unknown      US           NaN            NaN           NaN\n",
              "freq         23    1019           NaN            NaN           NaN\n",
              "mean        NaN     NaN  2.363147e+04    1209.284687  2.546793e+04\n",
              "std         NaN     NaN  1.368274e+05   10152.904756  2.224601e+05\n",
              "min         NaN     NaN  0.000000e+00       0.000000  0.000000e+00\n",
              "25%         NaN     NaN  6.000000e+00       0.000000  0.000000e+00\n",
              "50%         NaN     NaN  1.940000e+02       3.000000  0.000000e+00\n",
              "75%         NaN     NaN  7.986750e+03     143.250000  4.400000e+02\n",
              "max         NaN     NaN  3.242818e+06  382980.000000  4.657437e+06"
            ],
            "text/html": [
              "\n",
              "  <div id=\"df-829ca256-ac37-42fc-abb2-19c5c7465e65\">\n",
              "    <div class=\"colab-df-container\">\n",
              "      <div>\n",
              "<style scoped>\n",
              "    .dataframe tbody tr th:only-of-type {\n",
              "        vertical-align: middle;\n",
              "    }\n",
              "\n",
              "    .dataframe tbody tr th {\n",
              "        vertical-align: top;\n",
              "    }\n",
              "\n",
              "    .dataframe thead th {\n",
              "        text-align: right;\n",
              "    }\n",
              "</style>\n",
              "<table border=\"1\" class=\"dataframe\">\n",
              "  <thead>\n",
              "    <tr style=\"text-align: right;\">\n",
              "      <th></th>\n",
              "      <th>State</th>\n",
              "      <th>Country</th>\n",
              "      <th>Confirmed</th>\n",
              "      <th>Deaths</th>\n",
              "      <th>Recovered</th>\n",
              "    </tr>\n",
              "  </thead>\n",
              "  <tbody>\n",
              "    <tr>\n",
              "      <th>count</th>\n",
              "      <td>2364</td>\n",
              "      <td>2364</td>\n",
              "      <td>2.364000e+03</td>\n",
              "      <td>2364.000000</td>\n",
              "      <td>2.364000e+03</td>\n",
              "    </tr>\n",
              "    <tr>\n",
              "      <th>unique</th>\n",
              "      <td>532</td>\n",
              "      <td>21</td>\n",
              "      <td>NaN</td>\n",
              "      <td>NaN</td>\n",
              "      <td>NaN</td>\n",
              "    </tr>\n",
              "    <tr>\n",
              "      <th>top</th>\n",
              "      <td>Unknown</td>\n",
              "      <td>US</td>\n",
              "      <td>NaN</td>\n",
              "      <td>NaN</td>\n",
              "      <td>NaN</td>\n",
              "    </tr>\n",
              "    <tr>\n",
              "      <th>freq</th>\n",
              "      <td>23</td>\n",
              "      <td>1019</td>\n",
              "      <td>NaN</td>\n",
              "      <td>NaN</td>\n",
              "      <td>NaN</td>\n",
              "    </tr>\n",
              "    <tr>\n",
              "      <th>mean</th>\n",
              "      <td>NaN</td>\n",
              "      <td>NaN</td>\n",
              "      <td>2.363147e+04</td>\n",
              "      <td>1209.284687</td>\n",
              "      <td>2.546793e+04</td>\n",
              "    </tr>\n",
              "    <tr>\n",
              "      <th>std</th>\n",
              "      <td>NaN</td>\n",
              "      <td>NaN</td>\n",
              "      <td>1.368274e+05</td>\n",
              "      <td>10152.904756</td>\n",
              "      <td>2.224601e+05</td>\n",
              "    </tr>\n",
              "    <tr>\n",
              "      <th>min</th>\n",
              "      <td>NaN</td>\n",
              "      <td>NaN</td>\n",
              "      <td>0.000000e+00</td>\n",
              "      <td>0.000000</td>\n",
              "      <td>0.000000e+00</td>\n",
              "    </tr>\n",
              "    <tr>\n",
              "      <th>25%</th>\n",
              "      <td>NaN</td>\n",
              "      <td>NaN</td>\n",
              "      <td>6.000000e+00</td>\n",
              "      <td>0.000000</td>\n",
              "      <td>0.000000e+00</td>\n",
              "    </tr>\n",
              "    <tr>\n",
              "      <th>50%</th>\n",
              "      <td>NaN</td>\n",
              "      <td>NaN</td>\n",
              "      <td>1.940000e+02</td>\n",
              "      <td>3.000000</td>\n",
              "      <td>0.000000e+00</td>\n",
              "    </tr>\n",
              "    <tr>\n",
              "      <th>75%</th>\n",
              "      <td>NaN</td>\n",
              "      <td>NaN</td>\n",
              "      <td>7.986750e+03</td>\n",
              "      <td>143.250000</td>\n",
              "      <td>4.400000e+02</td>\n",
              "    </tr>\n",
              "    <tr>\n",
              "      <th>max</th>\n",
              "      <td>NaN</td>\n",
              "      <td>NaN</td>\n",
              "      <td>3.242818e+06</td>\n",
              "      <td>382980.000000</td>\n",
              "      <td>4.657437e+06</td>\n",
              "    </tr>\n",
              "  </tbody>\n",
              "</table>\n",
              "</div>\n",
              "      <button class=\"colab-df-convert\" onclick=\"convertToInteractive('df-829ca256-ac37-42fc-abb2-19c5c7465e65')\"\n",
              "              title=\"Convert this dataframe to an interactive table.\"\n",
              "              style=\"display:none;\">\n",
              "        \n",
              "  <svg xmlns=\"http://www.w3.org/2000/svg\" height=\"24px\"viewBox=\"0 0 24 24\"\n",
              "       width=\"24px\">\n",
              "    <path d=\"M0 0h24v24H0V0z\" fill=\"none\"/>\n",
              "    <path d=\"M18.56 5.44l.94 2.06.94-2.06 2.06-.94-2.06-.94-.94-2.06-.94 2.06-2.06.94zm-11 1L8.5 8.5l.94-2.06 2.06-.94-2.06-.94L8.5 2.5l-.94 2.06-2.06.94zm10 10l.94 2.06.94-2.06 2.06-.94-2.06-.94-.94-2.06-.94 2.06-2.06.94z\"/><path d=\"M17.41 7.96l-1.37-1.37c-.4-.4-.92-.59-1.43-.59-.52 0-1.04.2-1.43.59L10.3 9.45l-7.72 7.72c-.78.78-.78 2.05 0 2.83L4 21.41c.39.39.9.59 1.41.59.51 0 1.02-.2 1.41-.59l7.78-7.78 2.81-2.81c.8-.78.8-2.07 0-2.86zM5.41 20L4 18.59l7.72-7.72 1.47 1.35L5.41 20z\"/>\n",
              "  </svg>\n",
              "      </button>\n",
              "      \n",
              "  <style>\n",
              "    .colab-df-container {\n",
              "      display:flex;\n",
              "      flex-wrap:wrap;\n",
              "      gap: 12px;\n",
              "    }\n",
              "\n",
              "    .colab-df-convert {\n",
              "      background-color: #E8F0FE;\n",
              "      border: none;\n",
              "      border-radius: 50%;\n",
              "      cursor: pointer;\n",
              "      display: none;\n",
              "      fill: #1967D2;\n",
              "      height: 32px;\n",
              "      padding: 0 0 0 0;\n",
              "      width: 32px;\n",
              "    }\n",
              "\n",
              "    .colab-df-convert:hover {\n",
              "      background-color: #E2EBFA;\n",
              "      box-shadow: 0px 1px 2px rgba(60, 64, 67, 0.3), 0px 1px 3px 1px rgba(60, 64, 67, 0.15);\n",
              "      fill: #174EA6;\n",
              "    }\n",
              "\n",
              "    [theme=dark] .colab-df-convert {\n",
              "      background-color: #3B4455;\n",
              "      fill: #D2E3FC;\n",
              "    }\n",
              "\n",
              "    [theme=dark] .colab-df-convert:hover {\n",
              "      background-color: #434B5C;\n",
              "      box-shadow: 0px 1px 3px 1px rgba(0, 0, 0, 0.15);\n",
              "      filter: drop-shadow(0px 1px 2px rgba(0, 0, 0, 0.3));\n",
              "      fill: #FFFFFF;\n",
              "    }\n",
              "  </style>\n",
              "\n",
              "      <script>\n",
              "        const buttonEl =\n",
              "          document.querySelector('#df-829ca256-ac37-42fc-abb2-19c5c7465e65 button.colab-df-convert');\n",
              "        buttonEl.style.display =\n",
              "          google.colab.kernel.accessAllowed ? 'block' : 'none';\n",
              "\n",
              "        async function convertToInteractive(key) {\n",
              "          const element = document.querySelector('#df-829ca256-ac37-42fc-abb2-19c5c7465e65');\n",
              "          const dataTable =\n",
              "            await google.colab.kernel.invokeFunction('convertToInteractive',\n",
              "                                                     [key], {});\n",
              "          if (!dataTable) return;\n",
              "\n",
              "          const docLinkHtml = 'Like what you see? Visit the ' +\n",
              "            '<a target=\"_blank\" href=https://colab.research.google.com/notebooks/data_table.ipynb>data table notebook</a>'\n",
              "            + ' to learn more about interactive tables.';\n",
              "          element.innerHTML = '';\n",
              "          dataTable['output_type'] = 'display_data';\n",
              "          await google.colab.output.renderOutput(dataTable, element);\n",
              "          const docLink = document.createElement('div');\n",
              "          docLink.innerHTML = docLinkHtml;\n",
              "          element.appendChild(docLink);\n",
              "        }\n",
              "      </script>\n",
              "    </div>\n",
              "  </div>\n",
              "  "
            ]
          },
          "metadata": {},
          "execution_count": 66
        }
      ]
    },
    {
      "cell_type": "code",
      "source": [
        "df.Country.value_counts() #show the amount of rows/observations for each country"
      ],
      "metadata": {
        "id": "7VZeBCeSkUlu",
        "colab": {
          "base_uri": "https://localhost:8080/"
        },
        "outputId": "bc0f0880-809d-4d26-d30e-c40fd75e7563"
      },
      "execution_count": null,
      "outputs": [
        {
          "output_type": "execute_result",
          "data": {
            "text/plain": [
              "US                1019\n",
              "Mainland China     217\n",
              "Japan              183\n",
              "Canada             126\n",
              "Russia             110\n",
              "UK                  85\n",
              "Colombia            70\n",
              "Peru                70\n",
              "Australia           69\n",
              "France              67\n",
              "Brazil              58\n",
              "Ukraine             50\n",
              "Mexico              46\n",
              "Spain               41\n",
              "Chile               39\n",
              "Italy               32\n",
              "Netherlands         29\n",
              "Germany             24\n",
              "Denmark             15\n",
              "Macau                7\n",
              "Hong Kong            7\n",
              "Name: Country, dtype: int64"
            ]
          },
          "metadata": {},
          "execution_count": 67
        }
      ]
    },
    {
      "cell_type": "code",
      "source": [
        "# displayiny the variable of the dataset\n",
        "df.dtypes"
      ],
      "metadata": {
        "id": "PIqvpXZRp8EU",
        "colab": {
          "base_uri": "https://localhost:8080/"
        },
        "outputId": "877afd1d-2258-47d2-9e13-6a823a963041"
      },
      "execution_count": null,
      "outputs": [
        {
          "output_type": "execute_result",
          "data": {
            "text/plain": [
              "State        object\n",
              "Country      object\n",
              "Confirmed     int64\n",
              "Deaths        int64\n",
              "Recovered     int64\n",
              "dtype: object"
            ]
          },
          "metadata": {},
          "execution_count": 68
        }
      ]
    },
    {
      "cell_type": "code",
      "source": [
        "# plot a bar chart showing the number rows for each country.\n",
        "df.Country.value_counts().plot(kind='bar')\n",
        "plt.xlabel('Country')\n",
        "plt.ylabel('Observations') "
      ],
      "metadata": {
        "colab": {
          "base_uri": "https://localhost:8080/",
          "height": 365
        },
        "id": "ABUscWLAEeTH",
        "outputId": "e7716252-47fc-4cde-c195-664615c98dd8"
      },
      "execution_count": null,
      "outputs": [
        {
          "output_type": "execute_result",
          "data": {
            "text/plain": [
              "Text(0, 0.5, 'Observations')"
            ]
          },
          "metadata": {},
          "execution_count": 69
        },
        {
          "output_type": "display_data",
          "data": {
            "text/plain": [
              "<Figure size 432x288 with 1 Axes>"
            ],
            "image/png": "[encoded data removed]"
          },
          "metadata": {
            "needs_background": "light"
          }
        }
      ]
    },
    {
      "cell_type": "markdown",
      "source": [
        "## Use at least two of the following depending on your question of interest: pairplot, histogram, barplot, boxplot, or scatterplot."
      ],
      "metadata": {
        "id": "0xCAsNEYCuLx"
      }
    },
    {
      "cell_type": "code",
      "source": [
        "world=df.groupby('Country',sort=False).sum()\n",
        "world = world.sort_index(ascending = True)\n",
        "print (world)"
      ],
      "metadata": {
        "colab": {
          "base_uri": "https://localhost:8080/"
        },
        "id": "Ya2pGycYqXtl",
        "outputId": "e3636d90-2fc5-44e6-fb0c-ac519cd6f468"
      },
      "execution_count": null,
      "outputs": [
        {
          "output_type": "stream",
          "name": "stdout",
          "text": [
            "                Confirmed  Deaths  Recovered\n",
            "Country                                     \n",
            "Australia           63874     841      58696\n",
            "Brazil           16650887  472246    6813247\n",
            "Canada             694926   56704     545762\n",
            "Chile             1823707   56454     265641\n",
            "Colombia           111097    9182     152266\n",
            "Denmark             16356      55       1442\n",
            "France            1355589   18338      18963\n",
            "Germany           1592669   32040    1817240\n",
            "Hong Kong            9064      28       7445\n",
            "Italy             3631608  109042    1242450\n",
            "Japan              434245    5077     795101\n",
            "Macau                 367       0        383\n",
            "Mainland China     573644   33044     549827\n",
            "Mexico            1275195  136672     789945\n",
            "Netherlands         24218     616       1334\n",
            "Peru              7617004  152388    8044283\n",
            "Russia            3619466   17904    1508703\n",
            "Spain             2454924  965040   33787964\n",
            "UK                 307585   19679      14667\n",
            "US               13030958  765050    3601383\n",
            "Ukraine            577423    8349     189446\n"
          ]
        }
      ]
    },
    {
      "cell_type": "code",
      "source": [
        "world1 = world.sort_values(\"Confirmed\", ascending = False)\n",
        "print (world1)"
      ],
      "metadata": {
        "colab": {
          "base_uri": "https://localhost:8080/"
        },
        "id": "ZXiSXJQJWSXp",
        "outputId": "7c13eb2c-b738-466a-a7b6-f57c9e53452a"
      },
      "execution_count": null,
      "outputs": [
        {
          "output_type": "stream",
          "name": "stdout",
          "text": [
            "                Confirmed  Deaths  Recovered\n",
            "Country                                     \n",
            "Brazil           16650887  472246    6813247\n",
            "US               13030958  765050    3601383\n",
            "Peru              7617004  152388    8044283\n",
            "Italy             3631608  109042    1242450\n",
            "Russia            3619466   17904    1508703\n",
            "Spain             2454924  965040   33787964\n",
            "Chile             1823707   56454     265641\n",
            "Germany           1592669   32040    1817240\n",
            "France            1355589   18338      18963\n",
            "Mexico            1275195  136672     789945\n",
            "Canada             694926   56704     545762\n",
            "Ukraine            577423    8349     189446\n",
            "Mainland China     573644   33044     549827\n",
            "Japan              434245    5077     795101\n",
            "UK                 307585   19679      14667\n",
            "Colombia           111097    9182     152266\n",
            "Australia           63874     841      58696\n",
            "Netherlands         24218     616       1334\n",
            "Denmark             16356      55       1442\n",
            "Hong Kong            9064      28       7445\n",
            "Macau                 367       0        383\n"
          ]
        }
      ]
    },
    {
      "cell_type": "markdown",
      "source": [
        "The United states has the second most amount of COVID cases in the world only behind Brazil.  However, the US did have have more deaths, and therefore less recoveries, than Brazil.  "
      ],
      "metadata": {
        "id": "rlpm3nDdqZPw"
      }
    },
    {
      "cell_type": "code",
      "source": [
        "# Filter US COVID cases only.\n",
        "df.query('Country == \"US\"', inplace = True)\n",
        "df"
      ],
      "metadata": {
        "colab": {
          "base_uri": "https://localhost:8080/",
          "height": 455
        },
        "id": "X7fT54d2IHDE",
        "outputId": "2f1f1c2f-220e-42da-af8b-f1ac59807fe2"
      },
      "execution_count": null,
      "outputs": [
        {
          "output_type": "execute_result",
          "data": {
            "text/plain": [
              "                          State Country  Confirmed  Deaths  Recovered\n",
              "ObservationDate                                                      \n",
              "2020-06-04 00:00:00  Washington      US      22773    1151          0\n",
              "2020-06-05 00:00:00  Washington      US      23099    1165          0\n",
              "2020-06-06 00:00:00  Washington      US      23485    1181          0\n",
              "2020-06-07 00:00:00  Washington      US      23809    1187          0\n",
              "2020-06-08 00:00:00  Washington      US      24032    1195          0\n",
              "...                         ...     ...        ...     ...        ...\n",
              "2020-06-06 00:00:00   Recovered      US          0       0     503670\n",
              "2020-06-07 00:00:00   Recovered      US          0       0     512724\n",
              "2020-06-08 00:00:00   Recovered      US          0       0     523070\n",
              "2020-06-09 00:00:00   Recovered      US          0       0     531153\n",
              "2020-06-10 00:00:00   Recovered      US          0       0     537960\n",
              "\n",
              "[1019 rows x 5 columns]"
            ],
            "text/html": [
              "\n",
              "  <div id=\"df-5ce451d8-4de7-4173-aa11-e0dc0b1706de\">\n",
              "    <div class=\"colab-df-container\">\n",
              "      <div>\n",
              "<style scoped>\n",
              "    .dataframe tbody tr th:only-of-type {\n",
              "        vertical-align: middle;\n",
              "    }\n",
              "\n",
              "    .dataframe tbody tr th {\n",
              "        vertical-align: top;\n",
              "    }\n",
              "\n",
              "    .dataframe thead th {\n",
              "        text-align: right;\n",
              "    }\n",
              "</style>\n",
              "<table border=\"1\" class=\"dataframe\">\n",
              "  <thead>\n",
              "    <tr style=\"text-align: right;\">\n",
              "      <th></th>\n",
              "      <th>State</th>\n",
              "      <th>Country</th>\n",
              "      <th>Confirmed</th>\n",
              "      <th>Deaths</th>\n",
              "      <th>Recovered</th>\n",
              "    </tr>\n",
              "    <tr>\n",
              "      <th>ObservationDate</th>\n",
              "      <th></th>\n",
              "      <th></th>\n",
              "      <th></th>\n",
              "      <th></th>\n",
              "      <th></th>\n",
              "    </tr>\n",
              "  </thead>\n",
              "  <tbody>\n",
              "    <tr>\n",
              "      <th>2020-06-04 00:00:00</th>\n",
              "      <td>Washington</td>\n",
              "      <td>US</td>\n",
              "      <td>22773</td>\n",
              "      <td>1151</td>\n",
              "      <td>0</td>\n",
              "    </tr>\n",
              "    <tr>\n",
              "      <th>2020-06-05 00:00:00</th>\n",
              "      <td>Washington</td>\n",
              "      <td>US</td>\n",
              "      <td>23099</td>\n",
              "      <td>1165</td>\n",
              "      <td>0</td>\n",
              "    </tr>\n",
              "    <tr>\n",
              "      <th>2020-06-06 00:00:00</th>\n",
              "      <td>Washington</td>\n",
              "      <td>US</td>\n",
              "      <td>23485</td>\n",
              "      <td>1181</td>\n",
              "      <td>0</td>\n",
              "    </tr>\n",
              "    <tr>\n",
              "      <th>2020-06-07 00:00:00</th>\n",
              "      <td>Washington</td>\n",
              "      <td>US</td>\n",
              "      <td>23809</td>\n",
              "      <td>1187</td>\n",
              "      <td>0</td>\n",
              "    </tr>\n",
              "    <tr>\n",
              "      <th>2020-06-08 00:00:00</th>\n",
              "      <td>Washington</td>\n",
              "      <td>US</td>\n",
              "      <td>24032</td>\n",
              "      <td>1195</td>\n",
              "      <td>0</td>\n",
              "    </tr>\n",
              "    <tr>\n",
              "      <th>...</th>\n",
              "      <td>...</td>\n",
              "      <td>...</td>\n",
              "      <td>...</td>\n",
              "      <td>...</td>\n",
              "      <td>...</td>\n",
              "    </tr>\n",
              "    <tr>\n",
              "      <th>2020-06-06 00:00:00</th>\n",
              "      <td>Recovered</td>\n",
              "      <td>US</td>\n",
              "      <td>0</td>\n",
              "      <td>0</td>\n",
              "      <td>503670</td>\n",
              "    </tr>\n",
              "    <tr>\n",
              "      <th>2020-06-07 00:00:00</th>\n",
              "      <td>Recovered</td>\n",
              "      <td>US</td>\n",
              "      <td>0</td>\n",
              "      <td>0</td>\n",
              "      <td>512724</td>\n",
              "    </tr>\n",
              "    <tr>\n",
              "      <th>2020-06-08 00:00:00</th>\n",
              "      <td>Recovered</td>\n",
              "      <td>US</td>\n",
              "      <td>0</td>\n",
              "      <td>0</td>\n",
              "      <td>523070</td>\n",
              "    </tr>\n",
              "    <tr>\n",
              "      <th>2020-06-09 00:00:00</th>\n",
              "      <td>Recovered</td>\n",
              "      <td>US</td>\n",
              "      <td>0</td>\n",
              "      <td>0</td>\n",
              "      <td>531153</td>\n",
              "    </tr>\n",
              "    <tr>\n",
              "      <th>2020-06-10 00:00:00</th>\n",
              "      <td>Recovered</td>\n",
              "      <td>US</td>\n",
              "      <td>0</td>\n",
              "      <td>0</td>\n",
              "      <td>537960</td>\n",
              "    </tr>\n",
              "  </tbody>\n",
              "</table>\n",
              "<p>1019 rows × 5 columns</p>\n",
              "</div>\n",
              "      <button class=\"colab-df-convert\" onclick=\"convertToInteractive('df-5ce451d8-4de7-4173-aa11-e0dc0b1706de')\"\n",
              "              title=\"Convert this dataframe to an interactive table.\"\n",
              "              style=\"display:none;\">\n",
              "        \n",
              "  <svg xmlns=\"http://www.w3.org/2000/svg\" height=\"24px\"viewBox=\"0 0 24 24\"\n",
              "       width=\"24px\">\n",
              "    <path d=\"M0 0h24v24H0V0z\" fill=\"none\"/>\n",
              "    <path d=\"M18.56 5.44l.94 2.06.94-2.06 2.06-.94-2.06-.94-.94-2.06-.94 2.06-2.06.94zm-11 1L8.5 8.5l.94-2.06 2.06-.94-2.06-.94L8.5 2.5l-.94 2.06-2.06.94zm10 10l.94 2.06.94-2.06 2.06-.94-2.06-.94-.94-2.06-.94 2.06-2.06.94z\"/><path d=\"M17.41 7.96l-1.37-1.37c-.4-.4-.92-.59-1.43-.59-.52 0-1.04.2-1.43.59L10.3 9.45l-7.72 7.72c-.78.78-.78 2.05 0 2.83L4 21.41c.39.39.9.59 1.41.59.51 0 1.02-.2 1.41-.59l7.78-7.78 2.81-2.81c.8-.78.8-2.07 0-2.86zM5.41 20L4 18.59l7.72-7.72 1.47 1.35L5.41 20z\"/>\n",
              "  </svg>\n",
              "      </button>\n",
              "      \n",
              "  <style>\n",
              "    .colab-df-container {\n",
              "      display:flex;\n",
              "      flex-wrap:wrap;\n",
              "      gap: 12px;\n",
              "    }\n",
              "\n",
              "    .colab-df-convert {\n",
              "      background-color: #E8F0FE;\n",
              "      border: none;\n",
              "      border-radius: 50%;\n",
              "      cursor: pointer;\n",
              "      display: none;\n",
              "      fill: #1967D2;\n",
              "      height: 32px;\n",
              "      padding: 0 0 0 0;\n",
              "      width: 32px;\n",
              "    }\n",
              "\n",
              "    .colab-df-convert:hover {\n",
              "      background-color: #E2EBFA;\n",
              "      box-shadow: 0px 1px 2px rgba(60, 64, 67, 0.3), 0px 1px 3px 1px rgba(60, 64, 67, 0.15);\n",
              "      fill: #174EA6;\n",
              "    }\n",
              "\n",
              "    [theme=dark] .colab-df-convert {\n",
              "      background-color: #3B4455;\n",
              "      fill: #D2E3FC;\n",
              "    }\n",
              "\n",
              "    [theme=dark] .colab-df-convert:hover {\n",
              "      background-color: #434B5C;\n",
              "      box-shadow: 0px 1px 3px 1px rgba(0, 0, 0, 0.15);\n",
              "      filter: drop-shadow(0px 1px 2px rgba(0, 0, 0, 0.3));\n",
              "      fill: #FFFFFF;\n",
              "    }\n",
              "  </style>\n",
              "\n",
              "      <script>\n",
              "        const buttonEl =\n",
              "          document.querySelector('#df-5ce451d8-4de7-4173-aa11-e0dc0b1706de button.colab-df-convert');\n",
              "        buttonEl.style.display =\n",
              "          google.colab.kernel.accessAllowed ? 'block' : 'none';\n",
              "\n",
              "        async function convertToInteractive(key) {\n",
              "          const element = document.querySelector('#df-5ce451d8-4de7-4173-aa11-e0dc0b1706de');\n",
              "          const dataTable =\n",
              "            await google.colab.kernel.invokeFunction('convertToInteractive',\n",
              "                                                     [key], {});\n",
              "          if (!dataTable) return;\n",
              "\n",
              "          const docLinkHtml = 'Like what you see? Visit the ' +\n",
              "            '<a target=\"_blank\" href=https://colab.research.google.com/notebooks/data_table.ipynb>data table notebook</a>'\n",
              "            + ' to learn more about interactive tables.';\n",
              "          element.innerHTML = '';\n",
              "          dataTable['output_type'] = 'display_data';\n",
              "          await google.colab.output.renderOutput(dataTable, element);\n",
              "          const docLink = document.createElement('div');\n",
              "          docLink.innerHTML = docLinkHtml;\n",
              "          element.appendChild(docLink);\n",
              "        }\n",
              "      </script>\n",
              "    </div>\n",
              "  </div>\n",
              "  "
            ]
          },
          "metadata": {},
          "execution_count": 72
        }
      ]
    },
    {
      "cell_type": "code",
      "source": [
        "# US COVID Cases by Date.\n",
        "df.groupby('ObservationDate').sum()"
      ],
      "metadata": {
        "colab": {
          "base_uri": "https://localhost:8080/",
          "height": 1000
        },
        "id": "4j8eu1zlM-I5",
        "outputId": "973bbee3-5998-4305-8246-01e14dae64a2"
      },
      "execution_count": null,
      "outputs": [
        {
          "output_type": "execute_result",
          "data": {
            "text/plain": [
              "                     Confirmed  Deaths  Recovered\n",
              "ObservationDate                                  \n",
              "2020-03-04 00:00:00          1       0          0\n",
              "2020-03-05 00:00:00          1       0          0\n",
              "2020-03-06 00:00:00        102       0         21\n",
              "2020-03-07 00:00:00         41       0         37\n",
              "2020-03-08 00:00:00         19       0         20\n",
              "2020-03-09 00:00:00        228       0          2\n",
              "2020-03-10 00:00:00       1589      12         12\n",
              "2020-03-11 00:00:00       1358      24         27\n",
              "2020-03-12 00:00:00       1766      38         28\n",
              "2020-03-13 00:00:00       3674      18          3\n",
              "2020-03-14 00:00:00       2854      37          3\n",
              "2020-03-15 00:00:00       1220      25          2\n",
              "2020-03-16 00:00:00       2254      68          3\n",
              "2020-03-17 00:00:00          1       0          0\n",
              "2020-03-18 00:00:00          1       0          0\n",
              "2020-03-19 00:00:00          1       0          0\n",
              "2020-03-20 00:00:00          1       0          0\n",
              "2020-03-21 00:00:00          1       0          0\n",
              "2020-03-22 00:00:00        107       0          0\n",
              "2020-03-23 00:00:00         85       0        772\n",
              "2020-03-24 00:00:00          1       0       3420\n",
              "2020-03-25 00:00:00         22       0       1973\n",
              "2020-03-26 00:00:00          1       0       3663\n",
              "2020-03-27 00:00:00          1       0       3242\n",
              "2020-03-28 00:00:00          1       0       2780\n",
              "2020-03-31 00:00:00          0       0          0\n",
              "2020-04-01 00:00:00          0       0          0\n",
              "2020-04-02 00:00:00          0       0          0\n",
              "2020-04-03 00:00:00          0       0          0\n",
              "2020-04-04 00:00:00          0       0          0\n",
              "2020-04-05 00:00:00          0       0          0\n",
              "2020-04-06 00:00:00          0       0          0\n",
              "2020-06-04 00:00:00    1756785  104625     483640\n",
              "2020-06-05 00:00:00    1780189  106241     493158\n",
              "2020-06-06 00:00:00    1931774  112012     503670\n",
              "2020-06-07 00:00:00    1824424  108101     512724\n",
              "2020-06-08 00:00:00    1843088  108634     523070\n",
              "2020-06-09 00:00:00    1997842  114402     531153\n",
              "2020-06-10 00:00:00    1881526  110813     537960"
            ],
            "text/html": [
              "\n",
              "  <div id=\"df-c4acccec-9b68-43cb-8fa2-8ce62aef9c37\">\n",
              "    <div class=\"colab-df-container\">\n",
              "      <div>\n",
              "<style scoped>\n",
              "    .dataframe tbody tr th:only-of-type {\n",
              "        vertical-align: middle;\n",
              "    }\n",
              "\n",
              "    .dataframe tbody tr th {\n",
              "        vertical-align: top;\n",
              "    }\n",
              "\n",
              "    .dataframe thead th {\n",
              "        text-align: right;\n",
              "    }\n",
              "</style>\n",
              "<table border=\"1\" class=\"dataframe\">\n",
              "  <thead>\n",
              "    <tr style=\"text-align: right;\">\n",
              "      <th></th>\n",
              "      <th>Confirmed</th>\n",
              "      <th>Deaths</th>\n",
              "      <th>Recovered</th>\n",
              "    </tr>\n",
              "    <tr>\n",
              "      <th>ObservationDate</th>\n",
              "      <th></th>\n",
              "      <th></th>\n",
              "      <th></th>\n",
              "    </tr>\n",
              "  </thead>\n",
              "  <tbody>\n",
              "    <tr>\n",
              "      <th>2020-03-04 00:00:00</th>\n",
              "      <td>1</td>\n",
              "      <td>0</td>\n",
              "      <td>0</td>\n",
              "    </tr>\n",
              "    <tr>\n",
              "      <th>2020-03-05 00:00:00</th>\n",
              "      <td>1</td>\n",
              "      <td>0</td>\n",
              "      <td>0</td>\n",
              "    </tr>\n",
              "    <tr>\n",
              "      <th>2020-03-06 00:00:00</th>\n",
              "      <td>102</td>\n",
              "      <td>0</td>\n",
              "      <td>21</td>\n",
              "    </tr>\n",
              "    <tr>\n",
              "      <th>2020-03-07 00:00:00</th>\n",
              "      <td>41</td>\n",
              "      <td>0</td>\n",
              "      <td>37</td>\n",
              "    </tr>\n",
              "    <tr>\n",
              "      <th>2020-03-08 00:00:00</th>\n",
              "      <td>19</td>\n",
              "      <td>0</td>\n",
              "      <td>20</td>\n",
              "    </tr>\n",
              "    <tr>\n",
              "      <th>2020-03-09 00:00:00</th>\n",
              "      <td>228</td>\n",
              "      <td>0</td>\n",
              "      <td>2</td>\n",
              "    </tr>\n",
              "    <tr>\n",
              "      <th>2020-03-10 00:00:00</th>\n",
              "      <td>1589</td>\n",
              "      <td>12</td>\n",
              "      <td>12</td>\n",
              "    </tr>\n",
              "    <tr>\n",
              "      <th>2020-03-11 00:00:00</th>\n",
              "      <td>1358</td>\n",
              "      <td>24</td>\n",
              "      <td>27</td>\n",
              "    </tr>\n",
              "    <tr>\n",
              "      <th>2020-03-12 00:00:00</th>\n",
              "      <td>1766</td>\n",
              "      <td>38</td>\n",
              "      <td>28</td>\n",
              "    </tr>\n",
              "    <tr>\n",
              "      <th>2020-03-13 00:00:00</th>\n",
              "      <td>3674</td>\n",
              "      <td>18</td>\n",
              "      <td>3</td>\n",
              "    </tr>\n",
              "    <tr>\n",
              "      <th>2020-03-14 00:00:00</th>\n",
              "      <td>2854</td>\n",
              "      <td>37</td>\n",
              "      <td>3</td>\n",
              "    </tr>\n",
              "    <tr>\n",
              "      <th>2020-03-15 00:00:00</th>\n",
              "      <td>1220</td>\n",
              "      <td>25</td>\n",
              "      <td>2</td>\n",
              "    </tr>\n",
              "    <tr>\n",
              "      <th>2020-03-16 00:00:00</th>\n",
              "      <td>2254</td>\n",
              "      <td>68</td>\n",
              "      <td>3</td>\n",
              "    </tr>\n",
              "    <tr>\n",
              "      <th>2020-03-17 00:00:00</th>\n",
              "      <td>1</td>\n",
              "      <td>0</td>\n",
              "      <td>0</td>\n",
              "    </tr>\n",
              "    <tr>\n",
              "      <th>2020-03-18 00:00:00</th>\n",
              "      <td>1</td>\n",
              "      <td>0</td>\n",
              "      <td>0</td>\n",
              "    </tr>\n",
              "    <tr>\n",
              "      <th>2020-03-19 00:00:00</th>\n",
              "      <td>1</td>\n",
              "      <td>0</td>\n",
              "      <td>0</td>\n",
              "    </tr>\n",
              "    <tr>\n",
              "      <th>2020-03-20 00:00:00</th>\n",
              "      <td>1</td>\n",
              "      <td>0</td>\n",
              "      <td>0</td>\n",
              "    </tr>\n",
              "    <tr>\n",
              "      <th>2020-03-21 00:00:00</th>\n",
              "      <td>1</td>\n",
              "      <td>0</td>\n",
              "      <td>0</td>\n",
              "    </tr>\n",
              "    <tr>\n",
              "      <th>2020-03-22 00:00:00</th>\n",
              "      <td>107</td>\n",
              "      <td>0</td>\n",
              "      <td>0</td>\n",
              "    </tr>\n",
              "    <tr>\n",
              "      <th>2020-03-23 00:00:00</th>\n",
              "      <td>85</td>\n",
              "      <td>0</td>\n",
              "      <td>772</td>\n",
              "    </tr>\n",
              "    <tr>\n",
              "      <th>2020-03-24 00:00:00</th>\n",
              "      <td>1</td>\n",
              "      <td>0</td>\n",
              "      <td>3420</td>\n",
              "    </tr>\n",
              "    <tr>\n",
              "      <th>2020-03-25 00:00:00</th>\n",
              "      <td>22</td>\n",
              "      <td>0</td>\n",
              "      <td>1973</td>\n",
              "    </tr>\n",
              "    <tr>\n",
              "      <th>2020-03-26 00:00:00</th>\n",
              "      <td>1</td>\n",
              "      <td>0</td>\n",
              "      <td>3663</td>\n",
              "    </tr>\n",
              "    <tr>\n",
              "      <th>2020-03-27 00:00:00</th>\n",
              "      <td>1</td>\n",
              "      <td>0</td>\n",
              "      <td>3242</td>\n",
              "    </tr>\n",
              "    <tr>\n",
              "      <th>2020-03-28 00:00:00</th>\n",
              "      <td>1</td>\n",
              "      <td>0</td>\n",
              "      <td>2780</td>\n",
              "    </tr>\n",
              "    <tr>\n",
              "      <th>2020-03-31 00:00:00</th>\n",
              "      <td>0</td>\n",
              "      <td>0</td>\n",
              "      <td>0</td>\n",
              "    </tr>\n",
              "    <tr>\n",
              "      <th>2020-04-01 00:00:00</th>\n",
              "      <td>0</td>\n",
              "      <td>0</td>\n",
              "      <td>0</td>\n",
              "    </tr>\n",
              "    <tr>\n",
              "      <th>2020-04-02 00:00:00</th>\n",
              "      <td>0</td>\n",
              "      <td>0</td>\n",
              "      <td>0</td>\n",
              "    </tr>\n",
              "    <tr>\n",
              "      <th>2020-04-03 00:00:00</th>\n",
              "      <td>0</td>\n",
              "      <td>0</td>\n",
              "      <td>0</td>\n",
              "    </tr>\n",
              "    <tr>\n",
              "      <th>2020-04-04 00:00:00</th>\n",
              "      <td>0</td>\n",
              "      <td>0</td>\n",
              "      <td>0</td>\n",
              "    </tr>\n",
              "    <tr>\n",
              "      <th>2020-04-05 00:00:00</th>\n",
              "      <td>0</td>\n",
              "      <td>0</td>\n",
              "      <td>0</td>\n",
              "    </tr>\n",
              "    <tr>\n",
              "      <th>2020-04-06 00:00:00</th>\n",
              "      <td>0</td>\n",
              "      <td>0</td>\n",
              "      <td>0</td>\n",
              "    </tr>\n",
              "    <tr>\n",
              "      <th>2020-06-04 00:00:00</th>\n",
              "      <td>1756785</td>\n",
              "      <td>104625</td>\n",
              "      <td>483640</td>\n",
              "    </tr>\n",
              "    <tr>\n",
              "      <th>2020-06-05 00:00:00</th>\n",
              "      <td>1780189</td>\n",
              "      <td>106241</td>\n",
              "      <td>493158</td>\n",
              "    </tr>\n",
              "    <tr>\n",
              "      <th>2020-06-06 00:00:00</th>\n",
              "      <td>1931774</td>\n",
              "      <td>112012</td>\n",
              "      <td>503670</td>\n",
              "    </tr>\n",
              "    <tr>\n",
              "      <th>2020-06-07 00:00:00</th>\n",
              "      <td>1824424</td>\n",
              "      <td>108101</td>\n",
              "      <td>512724</td>\n",
              "    </tr>\n",
              "    <tr>\n",
              "      <th>2020-06-08 00:00:00</th>\n",
              "      <td>1843088</td>\n",
              "      <td>108634</td>\n",
              "      <td>523070</td>\n",
              "    </tr>\n",
              "    <tr>\n",
              "      <th>2020-06-09 00:00:00</th>\n",
              "      <td>1997842</td>\n",
              "      <td>114402</td>\n",
              "      <td>531153</td>\n",
              "    </tr>\n",
              "    <tr>\n",
              "      <th>2020-06-10 00:00:00</th>\n",
              "      <td>1881526</td>\n",
              "      <td>110813</td>\n",
              "      <td>537960</td>\n",
              "    </tr>\n",
              "  </tbody>\n",
              "</table>\n",
              "</div>\n",
              "      <button class=\"colab-df-convert\" onclick=\"convertToInteractive('df-c4acccec-9b68-43cb-8fa2-8ce62aef9c37')\"\n",
              "              title=\"Convert this dataframe to an interactive table.\"\n",
              "              style=\"display:none;\">\n",
              "        \n",
              "  <svg xmlns=\"http://www.w3.org/2000/svg\" height=\"24px\"viewBox=\"0 0 24 24\"\n",
              "       width=\"24px\">\n",
              "    <path d=\"M0 0h24v24H0V0z\" fill=\"none\"/>\n",
              "    <path d=\"M18.56 5.44l.94 2.06.94-2.06 2.06-.94-2.06-.94-.94-2.06-.94 2.06-2.06.94zm-11 1L8.5 8.5l.94-2.06 2.06-.94-2.06-.94L8.5 2.5l-.94 2.06-2.06.94zm10 10l.94 2.06.94-2.06 2.06-.94-2.06-.94-.94-2.06-.94 2.06-2.06.94z\"/><path d=\"M17.41 7.96l-1.37-1.37c-.4-.4-.92-.59-1.43-.59-.52 0-1.04.2-1.43.59L10.3 9.45l-7.72 7.72c-.78.78-.78 2.05 0 2.83L4 21.41c.39.39.9.59 1.41.59.51 0 1.02-.2 1.41-.59l7.78-7.78 2.81-2.81c.8-.78.8-2.07 0-2.86zM5.41 20L4 18.59l7.72-7.72 1.47 1.35L5.41 20z\"/>\n",
              "  </svg>\n",
              "      </button>\n",
              "      \n",
              "  <style>\n",
              "    .colab-df-container {\n",
              "      display:flex;\n",
              "      flex-wrap:wrap;\n",
              "      gap: 12px;\n",
              "    }\n",
              "\n",
              "    .colab-df-convert {\n",
              "      background-color: #E8F0FE;\n",
              "      border: none;\n",
              "      border-radius: 50%;\n",
              "      cursor: pointer;\n",
              "      display: none;\n",
              "      fill: #1967D2;\n",
              "      height: 32px;\n",
              "      padding: 0 0 0 0;\n",
              "      width: 32px;\n",
              "    }\n",
              "\n",
              "    .colab-df-convert:hover {\n",
              "      background-color: #E2EBFA;\n",
              "      box-shadow: 0px 1px 2px rgba(60, 64, 67, 0.3), 0px 1px 3px 1px rgba(60, 64, 67, 0.15);\n",
              "      fill: #174EA6;\n",
              "    }\n",
              "\n",
              "    [theme=dark] .colab-df-convert {\n",
              "      background-color: #3B4455;\n",
              "      fill: #D2E3FC;\n",
              "    }\n",
              "\n",
              "    [theme=dark] .colab-df-convert:hover {\n",
              "      background-color: #434B5C;\n",
              "      box-shadow: 0px 1px 3px 1px rgba(0, 0, 0, 0.15);\n",
              "      filter: drop-shadow(0px 1px 2px rgba(0, 0, 0, 0.3));\n",
              "      fill: #FFFFFF;\n",
              "    }\n",
              "  </style>\n",
              "\n",
              "      <script>\n",
              "        const buttonEl =\n",
              "          document.querySelector('#df-c4acccec-9b68-43cb-8fa2-8ce62aef9c37 button.colab-df-convert');\n",
              "        buttonEl.style.display =\n",
              "          google.colab.kernel.accessAllowed ? 'block' : 'none';\n",
              "\n",
              "        async function convertToInteractive(key) {\n",
              "          const element = document.querySelector('#df-c4acccec-9b68-43cb-8fa2-8ce62aef9c37');\n",
              "          const dataTable =\n",
              "            await google.colab.kernel.invokeFunction('convertToInteractive',\n",
              "                                                     [key], {});\n",
              "          if (!dataTable) return;\n",
              "\n",
              "          const docLinkHtml = 'Like what you see? Visit the ' +\n",
              "            '<a target=\"_blank\" href=https://colab.research.google.com/notebooks/data_table.ipynb>data table notebook</a>'\n",
              "            + ' to learn more about interactive tables.';\n",
              "          element.innerHTML = '';\n",
              "          dataTable['output_type'] = 'display_data';\n",
              "          await google.colab.output.renderOutput(dataTable, element);\n",
              "          const docLink = document.createElement('div');\n",
              "          docLink.innerHTML = docLinkHtml;\n",
              "          element.appendChild(docLink);\n",
              "        }\n",
              "      </script>\n",
              "    </div>\n",
              "  </div>\n",
              "  "
            ]
          },
          "metadata": {},
          "execution_count": 73
        }
      ]
    },
    {
      "cell_type": "code",
      "source": [
        "# Group variables and sum each cases by Dates.\n",
        "confirmed = df.groupby('ObservationDate').sum()['Confirmed'].reset_index()\n",
        "deaths = df.groupby('ObservationDate').sum()['Deaths'].reset_index()\n",
        "recovered = df.groupby('ObservationDate').sum()['Recovered'].reset_index()"
      ],
      "metadata": {
        "id": "zWsYfFkjIuDX"
      },
      "execution_count": null,
      "outputs": []
    },
    {
      "cell_type": "code",
      "source": [
        "fig = go.Figure()\n",
        "fig.add_trace(go.Bar(x=confirmed['ObservationDate'],\n",
        "                y=confirmed['Confirmed'],\n",
        "                name='Confirmed',\n",
        "                marker_color='blue'\n",
        "                ))\n",
        "fig.add_trace(go.Bar(x=deaths['ObservationDate'],\n",
        "                y=deaths['Deaths'],\n",
        "                name='Deaths',\n",
        "                marker_color='Red'\n",
        "                ))\n",
        "fig.add_trace(go.Bar(x=recovered['ObservationDate'],\n",
        "                y=recovered['Recovered'],\n",
        "                name='Recovered',\n",
        "                marker_color='Green'\n",
        "                ))\n",
        "\n",
        "fig.update_layout(\n",
        "    title='Worldwide Corona Virus Cases - Confirmed, Deaths, Recovered',\n",
        "    xaxis_tickfont_size=10,\n",
        "    yaxis=dict(\n",
        "        title='Number of Cases',\n",
        "        titlefont_size=14,\n",
        "        tickfont_size=10,\n",
        "    ),\n",
        "    legend=dict(\n",
        "        x=1,\n",
        "        y=1,\n",
        "        bgcolor='rgba(255, 255, 255, 0)',\n",
        "        bordercolor='rgba(255, 255, 255, 0)'\n",
        "    ),\n",
        "    barmode='group',\n",
        "    bargap=0.01, # gap between bars of adjacent location coordinates.\n",
        "    bargroupgap=0.01 # gap between bars of the same location coordinate.\n",
        ")\n",
        "fig.show()"
      ],
      "metadata": {
        "colab": {
          "base_uri": "https://localhost:8080/",
          "height": 542
        },
        "id": "HvjRLfoqKPuY",
        "outputId": "40e633b7-26a2-4175-a631-f5785940d8e7"
      },
      "execution_count": null,
      "outputs": [
        {
          "output_type": "display_data",
          "data": {
            "text/html": [
              "<html>\n",
              "<head><meta charset=\"utf-8\" /></head>\n",
              "<body>\n",
              "    <div>            <script src=\"https://cdnjs.cloudflare.com/ajax/libs/mathjax/2.7.5/MathJax.js?config=TeX-AMS-MML_SVG\"></script><script type=\"text/javascript\">if (window.MathJax) {MathJax.Hub.Config({SVG: {font: \"STIX-Web\"}});}</script>                <script type=\"text/javascript\">window.PlotlyConfig = {MathJaxConfig: 'local'};</script>\n",
              "        <script src=\"https://cdn.plot.ly/plotly-2.8.3.min.js\"></script>                <div id=\"2e22dc40-5259-480a-9769-390f2e280ffb\" class=\"plotly-graph-div\" style=\"height:525px; width:100%;\"></div>            <script type=\"text/javascript\">                                    window.PLOTLYENV=window.PLOTLYENV || {};                                    if (document.getElementById(\"2e22dc40-5259-480a-9769-390f2e280ffb\")) {                    Plotly.newPlot(                        \"2e22dc40-5259-480a-9769-390f2e280ffb\",                        [{\"marker\":{\"color\":\"blue\"},\"name\":\"Confirmed\",\"x\":[\"2020-03-04 00:00:00\",\"2020-03-05 00:00:00\",\"2020-03-06 00:00:00\",\"2020-03-07 00:00:00\",\"2020-03-08 00:00:00\",\"2020-03-09 00:00:00\",\"2020-03-10 00:00:00\",\"2020-03-11 00:00:00\",\"2020-03-12 00:00:00\",\"2020-03-13 00:00:00\",\"2020-03-14 00:00:00\",\"2020-03-15 00:00:00\",\"2020-03-16 00:00:00\",\"2020-03-17 00:00:00\",\"2020-03-18 00:00:00\",\"2020-03-19 00:00:00\",\"2020-03-20 00:00:00\",\"2020-03-21 00:00:00\",\"2020-03-22 00:00:00\",\"2020-03-23 00:00:00\",\"2020-03-24 00:00:00\",\"2020-03-25 00:00:00\",\"2020-03-26 00:00:00\",\"2020-03-27 00:00:00\",\"2020-03-28 00:00:00\",\"2020-03-31 00:00:00\",\"2020-04-01 00:00:00\",\"2020-04-02 00:00:00\",\"2020-04-03 00:00:00\",\"2020-04-04 00:00:00\",\"2020-04-05 00:00:00\",\"2020-04-06 00:00:00\",\"2020-06-04 00:00:00\",\"2020-06-05 00:00:00\",\"2020-06-06 00:00:00\",\"2020-06-07 00:00:00\",\"2020-06-08 00:00:00\",\"2020-06-09 00:00:00\",\"2020-06-10 00:00:00\"],\"y\":[1,1,102,41,19,228,1589,1358,1766,3674,2854,1220,2254,1,1,1,1,1,107,85,1,22,1,1,1,0,0,0,0,0,0,0,1756785,1780189,1931774,1824424,1843088,1997842,1881526],\"type\":\"bar\"},{\"marker\":{\"color\":\"Red\"},\"name\":\"Deaths\",\"x\":[\"2020-03-04 00:00:00\",\"2020-03-05 00:00:00\",\"2020-03-06 00:00:00\",\"2020-03-07 00:00:00\",\"2020-03-08 00:00:00\",\"2020-03-09 00:00:00\",\"2020-03-10 00:00:00\",\"2020-03-11 00:00:00\",\"2020-03-12 00:00:00\",\"2020-03-13 00:00:00\",\"2020-03-14 00:00:00\",\"2020-03-15 00:00:00\",\"2020-03-16 00:00:00\",\"2020-03-17 00:00:00\",\"2020-03-18 00:00:00\",\"2020-03-19 00:00:00\",\"2020-03-20 00:00:00\",\"2020-03-21 00:00:00\",\"2020-03-22 00:00:00\",\"2020-03-23 00:00:00\",\"2020-03-24 00:00:00\",\"2020-03-25 00:00:00\",\"2020-03-26 00:00:00\",\"2020-03-27 00:00:00\",\"2020-03-28 00:00:00\",\"2020-03-31 00:00:00\",\"2020-04-01 00:00:00\",\"2020-04-02 00:00:00\",\"2020-04-03 00:00:00\",\"2020-04-04 00:00:00\",\"2020-04-05 00:00:00\",\"2020-04-06 00:00:00\",\"2020-06-04 00:00:00\",\"2020-06-05 00:00:00\",\"2020-06-06 00:00:00\",\"2020-06-07 00:00:00\",\"2020-06-08 00:00:00\",\"2020-06-09 00:00:00\",\"2020-06-10 00:00:00\"],\"y\":[0,0,0,0,0,0,12,24,38,18,37,25,68,0,0,0,0,0,0,0,0,0,0,0,0,0,0,0,0,0,0,0,104625,106241,112012,108101,108634,114402,110813],\"type\":\"bar\"},{\"marker\":{\"color\":\"Green\"},\"name\":\"Recovered\",\"x\":[\"2020-03-04 00:00:00\",\"2020-03-05 00:00:00\",\"2020-03-06 00:00:00\",\"2020-03-07 00:00:00\",\"2020-03-08 00:00:00\",\"2020-03-09 00:00:00\",\"2020-03-10 00:00:00\",\"2020-03-11 00:00:00\",\"2020-03-12 00:00:00\",\"2020-03-13 00:00:00\",\"2020-03-14 00:00:00\",\"2020-03-15 00:00:00\",\"2020-03-16 00:00:00\",\"2020-03-17 00:00:00\",\"2020-03-18 00:00:00\",\"2020-03-19 00:00:00\",\"2020-03-20 00:00:00\",\"2020-03-21 00:00:00\",\"2020-03-22 00:00:00\",\"2020-03-23 00:00:00\",\"2020-03-24 00:00:00\",\"2020-03-25 00:00:00\",\"2020-03-26 00:00:00\",\"2020-03-27 00:00:00\",\"2020-03-28 00:00:00\",\"2020-03-31 00:00:00\",\"2020-04-01 00:00:00\",\"2020-04-02 00:00:00\",\"2020-04-03 00:00:00\",\"2020-04-04 00:00:00\",\"2020-04-05 00:00:00\",\"2020-04-06 00:00:00\",\"2020-06-04 00:00:00\",\"2020-06-05 00:00:00\",\"2020-06-06 00:00:00\",\"2020-06-07 00:00:00\",\"2020-06-08 00:00:00\",\"2020-06-09 00:00:00\",\"2020-06-10 00:00:00\"],\"y\":[0,0,21,37,20,2,12,27,28,3,3,2,3,0,0,0,0,0,0,772,3420,1973,3663,3242,2780,0,0,0,0,0,0,0,483640,493158,503670,512724,523070,531153,537960],\"type\":\"bar\"}],                        {\"template\":{\"data\":{\"bar\":[{\"error_x\":{\"color\":\"#2a3f5f\"},\"error_y\":{\"color\":\"#2a3f5f\"},\"marker\":{\"line\":{\"color\":\"#E5ECF6\",\"width\":0.5},\"pattern\":{\"fillmode\":\"overlay\",\"size\":10,\"solidity\":0.2}},\"type\":\"bar\"}],\"barpolar\":[{\"marker\":{\"line\":{\"color\":\"#E5ECF6\",\"width\":0.5},\"pattern\":{\"fillmode\":\"overlay\",\"size\":10,\"solidity\":0.2}},\"type\":\"barpolar\"}],\"carpet\":[{\"aaxis\":{\"endlinecolor\":\"#2a3f5f\",\"gridcolor\":\"white\",\"linecolor\":\"white\",\"minorgridcolor\":\"white\",\"startlinecolor\":\"#2a3f5f\"},\"baxis\":{\"endlinecolor\":\"#2a3f5f\",\"gridcolor\":\"white\",\"linecolor\":\"white\",\"minorgridcolor\":\"white\",\"startlinecolor\":\"#2a3f5f\"},\"type\":\"carpet\"}],\"choropleth\":[{\"colorbar\":{\"outlinewidth\":0,\"ticks\":\"\"},\"type\":\"choropleth\"}],\"contour\":[{\"colorbar\":{\"outlinewidth\":0,\"ticks\":\"\"},\"colorscale\":[[0.0,\"#0d0887\"],[0.1111111111111111,\"#46039f\"],[0.2222222222222222,\"#7201a8\"],[0.3333333333333333,\"#9c179e\"],[0.4444444444444444,\"#bd3786\"],[0.5555555555555556,\"#d8576b\"],[0.6666666666666666,\"#ed7953\"],[0.7777777777777778,\"#fb9f3a\"],[0.8888888888888888,\"#fdca26\"],[1.0,\"#f0f921\"]],\"type\":\"contour\"}],\"contourcarpet\":[{\"colorbar\":{\"outlinewidth\":0,\"ticks\":\"\"},\"type\":\"contourcarpet\"}],\"heatmap\":[{\"colorbar\":{\"outlinewidth\":0,\"ticks\":\"\"},\"colorscale\":[[0.0,\"#0d0887\"],[0.1111111111111111,\"#46039f\"],[0.2222222222222222,\"#7201a8\"],[0.3333333333333333,\"#9c179e\"],[0.4444444444444444,\"#bd3786\"],[0.5555555555555556,\"#d8576b\"],[0.6666666666666666,\"#ed7953\"],[0.7777777777777778,\"#fb9f3a\"],[0.8888888888888888,\"#fdca26\"],[1.0,\"#f0f921\"]],\"type\":\"heatmap\"}],\"heatmapgl\":[{\"colorbar\":{\"outlinewidth\":0,\"ticks\":\"\"},\"colorscale\":[[0.0,\"#0d0887\"],[0.1111111111111111,\"#46039f\"],[0.2222222222222222,\"#7201a8\"],[0.3333333333333333,\"#9c179e\"],[0.4444444444444444,\"#bd3786\"],[0.5555555555555556,\"#d8576b\"],[0.6666666666666666,\"#ed7953\"],[0.7777777777777778,\"#fb9f3a\"],[0.8888888888888888,\"#fdca26\"],[1.0,\"#f0f921\"]],\"type\":\"heatmapgl\"}],\"histogram\":[{\"marker\":{\"pattern\":{\"fillmode\":\"overlay\",\"size\":10,\"solidity\":0.2}},\"type\":\"histogram\"}],\"histogram2d\":[{\"colorbar\":{\"outlinewidth\":0,\"ticks\":\"\"},\"colorscale\":[[0.0,\"#0d0887\"],[0.1111111111111111,\"#46039f\"],[0.2222222222222222,\"#7201a8\"],[0.3333333333333333,\"#9c179e\"],[0.4444444444444444,\"#bd3786\"],[0.5555555555555556,\"#d8576b\"],[0.6666666666666666,\"#ed7953\"],[0.7777777777777778,\"#fb9f3a\"],[0.8888888888888888,\"#fdca26\"],[1.0,\"#f0f921\"]],\"type\":\"histogram2d\"}],\"histogram2dcontour\":[{\"colorbar\":{\"outlinewidth\":0,\"ticks\":\"\"},\"colorscale\":[[0.0,\"#0d0887\"],[0.1111111111111111,\"#46039f\"],[0.2222222222222222,\"#7201a8\"],[0.3333333333333333,\"#9c179e\"],[0.4444444444444444,\"#bd3786\"],[0.5555555555555556,\"#d8576b\"],[0.6666666666666666,\"#ed7953\"],[0.7777777777777778,\"#fb9f3a\"],[0.8888888888888888,\"#fdca26\"],[1.0,\"#f0f921\"]],\"type\":\"histogram2dcontour\"}],\"mesh3d\":[{\"colorbar\":{\"outlinewidth\":0,\"ticks\":\"\"},\"type\":\"mesh3d\"}],\"parcoords\":[{\"line\":{\"colorbar\":{\"outlinewidth\":0,\"ticks\":\"\"}},\"type\":\"parcoords\"}],\"pie\":[{\"automargin\":true,\"type\":\"pie\"}],\"scatter\":[{\"marker\":{\"colorbar\":{\"outlinewidth\":0,\"ticks\":\"\"}},\"type\":\"scatter\"}],\"scatter3d\":[{\"line\":{\"colorbar\":{\"outlinewidth\":0,\"ticks\":\"\"}},\"marker\":{\"colorbar\":{\"outlinewidth\":0,\"ticks\":\"\"}},\"type\":\"scatter3d\"}],\"scattercarpet\":[{\"marker\":{\"colorbar\":{\"outlinewidth\":0,\"ticks\":\"\"}},\"type\":\"scattercarpet\"}],\"scattergeo\":[{\"marker\":{\"colorbar\":{\"outlinewidth\":0,\"ticks\":\"\"}},\"type\":\"scattergeo\"}],\"scattergl\":[{\"marker\":{\"colorbar\":{\"outlinewidth\":0,\"ticks\":\"\"}},\"type\":\"scattergl\"}],\"scattermapbox\":[{\"marker\":{\"colorbar\":{\"outlinewidth\":0,\"ticks\":\"\"}},\"type\":\"scattermapbox\"}],\"scatterpolar\":[{\"marker\":{\"colorbar\":{\"outlinewidth\":0,\"ticks\":\"\"}},\"type\":\"scatterpolar\"}],\"scatterpolargl\":[{\"marker\":{\"colorbar\":{\"outlinewidth\":0,\"ticks\":\"\"}},\"type\":\"scatterpolargl\"}],\"scatterternary\":[{\"marker\":{\"colorbar\":{\"outlinewidth\":0,\"ticks\":\"\"}},\"type\":\"scatterternary\"}],\"surface\":[{\"colorbar\":{\"outlinewidth\":0,\"ticks\":\"\"},\"colorscale\":[[0.0,\"#0d0887\"],[0.1111111111111111,\"#46039f\"],[0.2222222222222222,\"#7201a8\"],[0.3333333333333333,\"#9c179e\"],[0.4444444444444444,\"#bd3786\"],[0.5555555555555556,\"#d8576b\"],[0.6666666666666666,\"#ed7953\"],[0.7777777777777778,\"#fb9f3a\"],[0.8888888888888888,\"#fdca26\"],[1.0,\"#f0f921\"]],\"type\":\"surface\"}],\"table\":[{\"cells\":{\"fill\":{\"color\":\"#EBF0F8\"},\"line\":{\"color\":\"white\"}},\"header\":{\"fill\":{\"color\":\"#C8D4E3\"},\"line\":{\"color\":\"white\"}},\"type\":\"table\"}]},\"layout\":{\"annotationdefaults\":{\"arrowcolor\":\"#2a3f5f\",\"arrowhead\":0,\"arrowwidth\":1},\"autotypenumbers\":\"strict\",\"coloraxis\":{\"colorbar\":{\"outlinewidth\":0,\"ticks\":\"\"}},\"colorscale\":{\"diverging\":[[0,\"#8e0152\"],[0.1,\"#c51b7d\"],[0.2,\"#de77ae\"],[0.3,\"#f1b6da\"],[0.4,\"#fde0ef\"],[0.5,\"#f7f7f7\"],[0.6,\"#e6f5d0\"],[0.7,\"#b8e186\"],[0.8,\"#7fbc41\"],[0.9,\"#4d9221\"],[1,\"#276419\"]],\"sequential\":[[0.0,\"#0d0887\"],[0.1111111111111111,\"#46039f\"],[0.2222222222222222,\"#7201a8\"],[0.3333333333333333,\"#9c179e\"],[0.4444444444444444,\"#bd3786\"],[0.5555555555555556,\"#d8576b\"],[0.6666666666666666,\"#ed7953\"],[0.7777777777777778,\"#fb9f3a\"],[0.8888888888888888,\"#fdca26\"],[1.0,\"#f0f921\"]],\"sequentialminus\":[[0.0,\"#0d0887\"],[0.1111111111111111,\"#46039f\"],[0.2222222222222222,\"#7201a8\"],[0.3333333333333333,\"#9c179e\"],[0.4444444444444444,\"#bd3786\"],[0.5555555555555556,\"#d8576b\"],[0.6666666666666666,\"#ed7953\"],[0.7777777777777778,\"#fb9f3a\"],[0.8888888888888888,\"#fdca26\"],[1.0,\"#f0f921\"]]},\"colorway\":[\"#636efa\",\"#EF553B\",\"#00cc96\",\"#ab63fa\",\"#FFA15A\",\"#19d3f3\",\"#FF6692\",\"#B6E880\",\"#FF97FF\",\"#FECB52\"],\"font\":{\"color\":\"#2a3f5f\"},\"geo\":{\"bgcolor\":\"white\",\"lakecolor\":\"white\",\"landcolor\":\"#E5ECF6\",\"showlakes\":true,\"showland\":true,\"subunitcolor\":\"white\"},\"hoverlabel\":{\"align\":\"left\"},\"hovermode\":\"closest\",\"mapbox\":{\"style\":\"light\"},\"paper_bgcolor\":\"white\",\"plot_bgcolor\":\"#E5ECF6\",\"polar\":{\"angularaxis\":{\"gridcolor\":\"white\",\"linecolor\":\"white\",\"ticks\":\"\"},\"bgcolor\":\"#E5ECF6\",\"radialaxis\":{\"gridcolor\":\"white\",\"linecolor\":\"white\",\"ticks\":\"\"}},\"scene\":{\"xaxis\":{\"backgroundcolor\":\"#E5ECF6\",\"gridcolor\":\"white\",\"gridwidth\":2,\"linecolor\":\"white\",\"showbackground\":true,\"ticks\":\"\",\"zerolinecolor\":\"white\"},\"yaxis\":{\"backgroundcolor\":\"#E5ECF6\",\"gridcolor\":\"white\",\"gridwidth\":2,\"linecolor\":\"white\",\"showbackground\":true,\"ticks\":\"\",\"zerolinecolor\":\"white\"},\"zaxis\":{\"backgroundcolor\":\"#E5ECF6\",\"gridcolor\":\"white\",\"gridwidth\":2,\"linecolor\":\"white\",\"showbackground\":true,\"ticks\":\"\",\"zerolinecolor\":\"white\"}},\"shapedefaults\":{\"line\":{\"color\":\"#2a3f5f\"}},\"ternary\":{\"aaxis\":{\"gridcolor\":\"white\",\"linecolor\":\"white\",\"ticks\":\"\"},\"baxis\":{\"gridcolor\":\"white\",\"linecolor\":\"white\",\"ticks\":\"\"},\"bgcolor\":\"#E5ECF6\",\"caxis\":{\"gridcolor\":\"white\",\"linecolor\":\"white\",\"ticks\":\"\"}},\"title\":{\"x\":0.05},\"xaxis\":{\"automargin\":true,\"gridcolor\":\"white\",\"linecolor\":\"white\",\"ticks\":\"\",\"title\":{\"standoff\":15},\"zerolinecolor\":\"white\",\"zerolinewidth\":2},\"yaxis\":{\"automargin\":true,\"gridcolor\":\"white\",\"linecolor\":\"white\",\"ticks\":\"\",\"title\":{\"standoff\":15},\"zerolinecolor\":\"white\",\"zerolinewidth\":2}}},\"xaxis\":{\"tickfont\":{\"size\":10}},\"yaxis\":{\"title\":{\"text\":\"Number of Cases\",\"font\":{\"size\":14}},\"tickfont\":{\"size\":10}},\"legend\":{\"x\":1,\"y\":1,\"bgcolor\":\"rgba(255, 255, 255, 0)\",\"bordercolor\":\"rgba(255, 255, 255, 0)\"},\"title\":{\"text\":\"Worldwide Corona Virus Cases - Confirmed, Deaths, Recovered\"},\"barmode\":\"group\",\"bargap\":0.01,\"bargroupgap\":0.01},                        {\"responsive\": true}                    ).then(function(){\n",
              "                            \n",
              "var gd = document.getElementById('2e22dc40-5259-480a-9769-390f2e280ffb');\n",
              "var x = new MutationObserver(function (mutations, observer) {{\n",
              "        var display = window.getComputedStyle(gd).display;\n",
              "        if (!display || display === 'none') {{\n",
              "            console.log([gd, 'removed!']);\n",
              "            Plotly.purge(gd);\n",
              "            observer.disconnect();\n",
              "        }}\n",
              "}});\n",
              "\n",
              "// Listen for the removal of the full notebook cells\n",
              "var notebookContainer = gd.closest('#notebook-container');\n",
              "if (notebookContainer) {{\n",
              "    x.observe(notebookContainer, {childList: true});\n",
              "}}\n",
              "\n",
              "// Listen for the clearing of the current output cell\n",
              "var outputEl = gd.closest('.output');\n",
              "if (outputEl) {{\n",
              "    x.observe(outputEl, {childList: true});\n",
              "}}\n",
              "\n",
              "                        })                };                            </script>        </div>\n",
              "</body>\n",
              "</html>"
            ]
          },
          "metadata": {}
        }
      ]
    },
    {
      "cell_type": "markdown",
      "source": [
        "## Simulate a nonparametric inference of the Median for a quantitative variable in the dataset."
      ],
      "metadata": {
        "id": "Q09bJMzxDVk1"
      }
    },
    {
      "cell_type": "code",
      "source": [
        "import numpy as np\n",
        "import pandas as pd\n",
        "from pandas import Series, DataFrame\n",
        "from scipy.stats import bootstrap\n",
        "import matplotlib.pyplot as plt\n",
        "import random"
      ],
      "metadata": {
        "id": "mHSJpxu0VP7F"
      },
      "execution_count": null,
      "outputs": []
    },
    {
      "cell_type": "markdown",
      "source": [
        "#### Filtering data with Pandas .query() method"
      ],
      "metadata": {
        "id": "G6p9YFR9BMES"
      }
    },
    {
      "cell_type": "code",
      "source": [
        "df.query('Country == \"US\"', inplace = True)\n",
        "df"
      ],
      "metadata": {
        "colab": {
          "base_uri": "https://localhost:8080/"
        },
        "id": "Z_SVdAXj_djC",
        "outputId": "59472642-9d3a-4cb1-e1d6-c9b4eef6951d"
      },
      "execution_count": null,
      "outputs": [
        {
          "output_type": "execute_result",
          "data": {
            "text/plain": [
              "                          State Country  Confirmed  Deaths  Recovered\n",
              "ObservationDate                                                      \n",
              "2020-06-04 00:00:00  Washington      US      22773    1151          0\n",
              "2020-06-05 00:00:00  Washington      US      23099    1165          0\n",
              "2020-06-06 00:00:00  Washington      US      23485    1181          0\n",
              "2020-06-07 00:00:00  Washington      US      23809    1187          0\n",
              "2020-06-08 00:00:00  Washington      US      24032    1195          0\n",
              "...                         ...     ...        ...     ...        ...\n",
              "2020-06-06 00:00:00   Recovered      US          0       0     503670\n",
              "2020-06-07 00:00:00   Recovered      US          0       0     512724\n",
              "2020-06-08 00:00:00   Recovered      US          0       0     523070\n",
              "2020-06-09 00:00:00   Recovered      US          0       0     531153\n",
              "2020-06-10 00:00:00   Recovered      US          0       0     537960\n",
              "\n",
              "[1019 rows x 5 columns]"
            ],
            "text/html": [
              "\n",
              "  <div id=\"df-17009a65-9d41-4776-81b3-983a59281f51\">\n",
              "    <div class=\"colab-df-container\">\n",
              "      <div>\n",
              "<style scoped>\n",
              "    .dataframe tbody tr th:only-of-type {\n",
              "        vertical-align: middle;\n",
              "    }\n",
              "\n",
              "    .dataframe tbody tr th {\n",
              "        vertical-align: top;\n",
              "    }\n",
              "\n",
              "    .dataframe thead th {\n",
              "        text-align: right;\n",
              "    }\n",
              "</style>\n",
              "<table border=\"1\" class=\"dataframe\">\n",
              "  <thead>\n",
              "    <tr style=\"text-align: right;\">\n",
              "      <th></th>\n",
              "      <th>State</th>\n",
              "      <th>Country</th>\n",
              "      <th>Confirmed</th>\n",
              "      <th>Deaths</th>\n",
              "      <th>Recovered</th>\n",
              "    </tr>\n",
              "    <tr>\n",
              "      <th>ObservationDate</th>\n",
              "      <th></th>\n",
              "      <th></th>\n",
              "      <th></th>\n",
              "      <th></th>\n",
              "      <th></th>\n",
              "    </tr>\n",
              "  </thead>\n",
              "  <tbody>\n",
              "    <tr>\n",
              "      <th>2020-06-04 00:00:00</th>\n",
              "      <td>Washington</td>\n",
              "      <td>US</td>\n",
              "      <td>22773</td>\n",
              "      <td>1151</td>\n",
              "      <td>0</td>\n",
              "    </tr>\n",
              "    <tr>\n",
              "      <th>2020-06-05 00:00:00</th>\n",
              "      <td>Washington</td>\n",
              "      <td>US</td>\n",
              "      <td>23099</td>\n",
              "      <td>1165</td>\n",
              "      <td>0</td>\n",
              "    </tr>\n",
              "    <tr>\n",
              "      <th>2020-06-06 00:00:00</th>\n",
              "      <td>Washington</td>\n",
              "      <td>US</td>\n",
              "      <td>23485</td>\n",
              "      <td>1181</td>\n",
              "      <td>0</td>\n",
              "    </tr>\n",
              "    <tr>\n",
              "      <th>2020-06-07 00:00:00</th>\n",
              "      <td>Washington</td>\n",
              "      <td>US</td>\n",
              "      <td>23809</td>\n",
              "      <td>1187</td>\n",
              "      <td>0</td>\n",
              "    </tr>\n",
              "    <tr>\n",
              "      <th>2020-06-08 00:00:00</th>\n",
              "      <td>Washington</td>\n",
              "      <td>US</td>\n",
              "      <td>24032</td>\n",
              "      <td>1195</td>\n",
              "      <td>0</td>\n",
              "    </tr>\n",
              "    <tr>\n",
              "      <th>...</th>\n",
              "      <td>...</td>\n",
              "      <td>...</td>\n",
              "      <td>...</td>\n",
              "      <td>...</td>\n",
              "      <td>...</td>\n",
              "    </tr>\n",
              "    <tr>\n",
              "      <th>2020-06-06 00:00:00</th>\n",
              "      <td>Recovered</td>\n",
              "      <td>US</td>\n",
              "      <td>0</td>\n",
              "      <td>0</td>\n",
              "      <td>503670</td>\n",
              "    </tr>\n",
              "    <tr>\n",
              "      <th>2020-06-07 00:00:00</th>\n",
              "      <td>Recovered</td>\n",
              "      <td>US</td>\n",
              "      <td>0</td>\n",
              "      <td>0</td>\n",
              "      <td>512724</td>\n",
              "    </tr>\n",
              "    <tr>\n",
              "      <th>2020-06-08 00:00:00</th>\n",
              "      <td>Recovered</td>\n",
              "      <td>US</td>\n",
              "      <td>0</td>\n",
              "      <td>0</td>\n",
              "      <td>523070</td>\n",
              "    </tr>\n",
              "    <tr>\n",
              "      <th>2020-06-09 00:00:00</th>\n",
              "      <td>Recovered</td>\n",
              "      <td>US</td>\n",
              "      <td>0</td>\n",
              "      <td>0</td>\n",
              "      <td>531153</td>\n",
              "    </tr>\n",
              "    <tr>\n",
              "      <th>2020-06-10 00:00:00</th>\n",
              "      <td>Recovered</td>\n",
              "      <td>US</td>\n",
              "      <td>0</td>\n",
              "      <td>0</td>\n",
              "      <td>537960</td>\n",
              "    </tr>\n",
              "  </tbody>\n",
              "</table>\n",
              "<p>1019 rows × 5 columns</p>\n",
              "</div>\n",
              "      <button class=\"colab-df-convert\" onclick=\"convertToInteractive('df-17009a65-9d41-4776-81b3-983a59281f51')\"\n",
              "              title=\"Convert this dataframe to an interactive table.\"\n",
              "              style=\"display:none;\">\n",
              "        \n",
              "  <svg xmlns=\"http://www.w3.org/2000/svg\" height=\"24px\"viewBox=\"0 0 24 24\"\n",
              "       width=\"24px\">\n",
              "    <path d=\"M0 0h24v24H0V0z\" fill=\"none\"/>\n",
              "    <path d=\"M18.56 5.44l.94 2.06.94-2.06 2.06-.94-2.06-.94-.94-2.06-.94 2.06-2.06.94zm-11 1L8.5 8.5l.94-2.06 2.06-.94-2.06-.94L8.5 2.5l-.94 2.06-2.06.94zm10 10l.94 2.06.94-2.06 2.06-.94-2.06-.94-.94-2.06-.94 2.06-2.06.94z\"/><path d=\"M17.41 7.96l-1.37-1.37c-.4-.4-.92-.59-1.43-.59-.52 0-1.04.2-1.43.59L10.3 9.45l-7.72 7.72c-.78.78-.78 2.05 0 2.83L4 21.41c.39.39.9.59 1.41.59.51 0 1.02-.2 1.41-.59l7.78-7.78 2.81-2.81c.8-.78.8-2.07 0-2.86zM5.41 20L4 18.59l7.72-7.72 1.47 1.35L5.41 20z\"/>\n",
              "  </svg>\n",
              "      </button>\n",
              "      \n",
              "  <style>\n",
              "    .colab-df-container {\n",
              "      display:flex;\n",
              "      flex-wrap:wrap;\n",
              "      gap: 12px;\n",
              "    }\n",
              "\n",
              "    .colab-df-convert {\n",
              "      background-color: #E8F0FE;\n",
              "      border: none;\n",
              "      border-radius: 50%;\n",
              "      cursor: pointer;\n",
              "      display: none;\n",
              "      fill: #1967D2;\n",
              "      height: 32px;\n",
              "      padding: 0 0 0 0;\n",
              "      width: 32px;\n",
              "    }\n",
              "\n",
              "    .colab-df-convert:hover {\n",
              "      background-color: #E2EBFA;\n",
              "      box-shadow: 0px 1px 2px rgba(60, 64, 67, 0.3), 0px 1px 3px 1px rgba(60, 64, 67, 0.15);\n",
              "      fill: #174EA6;\n",
              "    }\n",
              "\n",
              "    [theme=dark] .colab-df-convert {\n",
              "      background-color: #3B4455;\n",
              "      fill: #D2E3FC;\n",
              "    }\n",
              "\n",
              "    [theme=dark] .colab-df-convert:hover {\n",
              "      background-color: #434B5C;\n",
              "      box-shadow: 0px 1px 3px 1px rgba(0, 0, 0, 0.15);\n",
              "      filter: drop-shadow(0px 1px 2px rgba(0, 0, 0, 0.3));\n",
              "      fill: #FFFFFF;\n",
              "    }\n",
              "  </style>\n",
              "\n",
              "      <script>\n",
              "        const buttonEl =\n",
              "          document.querySelector('#df-17009a65-9d41-4776-81b3-983a59281f51 button.colab-df-convert');\n",
              "        buttonEl.style.display =\n",
              "          google.colab.kernel.accessAllowed ? 'block' : 'none';\n",
              "\n",
              "        async function convertToInteractive(key) {\n",
              "          const element = document.querySelector('#df-17009a65-9d41-4776-81b3-983a59281f51');\n",
              "          const dataTable =\n",
              "            await google.colab.kernel.invokeFunction('convertToInteractive',\n",
              "                                                     [key], {});\n",
              "          if (!dataTable) return;\n",
              "\n",
              "          const docLinkHtml = 'Like what you see? Visit the ' +\n",
              "            '<a target=\"_blank\" href=https://colab.research.google.com/notebooks/data_table.ipynb>data table notebook</a>'\n",
              "            + ' to learn more about interactive tables.';\n",
              "          element.innerHTML = '';\n",
              "          dataTable['output_type'] = 'display_data';\n",
              "          await google.colab.output.renderOutput(dataTable, element);\n",
              "          const docLink = document.createElement('div');\n",
              "          docLink.innerHTML = docLinkHtml;\n",
              "          element.appendChild(docLink);\n",
              "        }\n",
              "      </script>\n",
              "    </div>\n",
              "  </div>\n",
              "  "
            ]
          },
          "metadata": {},
          "execution_count": 77
        }
      ]
    },
    {
      "cell_type": "code",
      "source": [
        "df.shape"
      ],
      "metadata": {
        "colab": {
          "base_uri": "https://localhost:8080/"
        },
        "id": "sMbYb_JnOsyF",
        "outputId": "9b4168f0-4e2b-4cca-b739-2b442cf3bc2d"
      },
      "execution_count": null,
      "outputs": [
        {
          "output_type": "execute_result",
          "data": {
            "text/plain": [
              "(1019, 5)"
            ]
          },
          "metadata": {},
          "execution_count": 78
        }
      ]
    },
    {
      "cell_type": "code",
      "source": [
        "df.columns"
      ],
      "metadata": {
        "colab": {
          "base_uri": "https://localhost:8080/"
        },
        "id": "0g30bIJtO1Jo",
        "outputId": "4a0f0c61-d554-48fa-feb9-7b67c4943012"
      },
      "execution_count": null,
      "outputs": [
        {
          "output_type": "execute_result",
          "data": {
            "text/plain": [
              "Index(['State', 'Country', 'Confirmed', 'Deaths', 'Recovered'], dtype='object')"
            ]
          },
          "metadata": {},
          "execution_count": 79
        }
      ]
    },
    {
      "cell_type": "code",
      "source": [
        "df.info(memory_usage='deep')"
      ],
      "metadata": {
        "colab": {
          "base_uri": "https://localhost:8080/"
        },
        "id": "fiorHbMuO8uo",
        "outputId": "8839d04b-8e31-4faa-8c6d-ff7ba6465dad"
      },
      "execution_count": null,
      "outputs": [
        {
          "output_type": "stream",
          "name": "stdout",
          "text": [
            "<class 'pandas.core.frame.DataFrame'>\n",
            "Index: 1019 entries, 2020-06-04 00:00:00 to 2020-06-10 00:00:00\n",
            "Data columns (total 5 columns):\n",
            " #   Column     Non-Null Count  Dtype \n",
            "---  ------     --------------  ----- \n",
            " 0   State      1019 non-null   object\n",
            " 1   Country    1019 non-null   object\n",
            " 2   Confirmed  1019 non-null   int64 \n",
            " 3   Deaths     1019 non-null   int64 \n",
            " 4   Recovered  1019 non-null   int64 \n",
            "dtypes: int64(3), object(2)\n",
            "memory usage: 241.1 KB\n"
          ]
        }
      ]
    },
    {
      "cell_type": "code",
      "source": [
        "# load the data and draw a sample (s) of 1000 rows to use as our representative sample of the “US”.\n",
        "df=df.sample(1000,random_state=7)\n",
        "original_sample=df['Confirmed']\n",
        "original_sample.head"
      ],
      "metadata": {
        "colab": {
          "base_uri": "https://localhost:8080/"
        },
        "id": "VRXUt5MFGnH4",
        "outputId": "c54c6bfa-504b-4576-ea44-fd4016890449"
      },
      "execution_count": null,
      "outputs": [
        {
          "output_type": "execute_result",
          "data": {
            "text/plain": [
              "<bound method NDFrame.head of ObservationDate\n",
              "2020-03-15 00:00:00      22\n",
              "2020-06-05 00:00:00    1029\n",
              "2020-03-12 00:00:00       1\n",
              "2020-03-14 00:00:00     136\n",
              "2020-03-16 00:00:00       1\n",
              "                       ... \n",
              "2020-03-16 00:00:00       1\n",
              "2020-06-08 00:00:00    5662\n",
              "2020-03-13 00:00:00     437\n",
              "2020-03-15 00:00:00       1\n",
              "2020-03-31 00:00:00       0\n",
              "Name: Confirmed, Length: 1000, dtype: int64>"
            ]
          },
          "metadata": {},
          "execution_count": 81
        }
      ]
    },
    {
      "cell_type": "code",
      "source": [
        "# Scenario:\n",
        "# Let’s say that we are given this sample of 1000 rows and we want somehow to estimate the 95% confidence interval of the mean. \n",
        "# We can start by computing the summary statistics and plot the histogram of the ratings.\n",
        "\n",
        "original_sample.describe()"
      ],
      "metadata": {
        "colab": {
          "base_uri": "https://localhost:8080/"
        },
        "id": "G6rNs6AfHUPC",
        "outputId": "26670034-bccb-451e-f643-cdf03a6d8655"
      },
      "execution_count": 89,
      "outputs": [
        {
          "output_type": "execute_result",
          "data": {
            "text/plain": [
              "count      1000.000000\n",
              "mean      12961.422000\n",
              "std       40089.767437\n",
              "min           0.000000\n",
              "25%           1.000000\n",
              "50%          16.500000\n",
              "75%        8576.500000\n",
              "max      392490.000000\n",
              "Name: Confirmed, dtype: float64"
            ]
          },
          "metadata": {},
          "execution_count": 89
        }
      ]
    },
    {
      "cell_type": "code",
      "source": [
        "# Run the histogram of the bootstrapped sample.\n",
        "original_sample.hist()"
      ],
      "metadata": {
        "colab": {
          "base_uri": "https://localhost:8080/",
          "height": 283
        },
        "id": "1-fINwafG-58",
        "outputId": "4b0c4256-5073-4461-df91-a56784b5c5d8"
      },
      "execution_count": 90,
      "outputs": [
        {
          "output_type": "execute_result",
          "data": {
            "text/plain": [
              "<matplotlib.axes._subplots.AxesSubplot at 0x7fef722f5450>"
            ]
          },
          "metadata": {},
          "execution_count": 90
        },
        {
          "output_type": "display_data",
          "data": {
            "text/plain": [
              "<Figure size 432x288 with 1 Axes>"
            ],
            "image/png": "[encoded data removed]"
          },
          "metadata": {
            "needs_background": "light"
          }
        }
      ]
    },
    {
      "cell_type": "markdown",
      "source": [
        "#### The above histogram of the ratings is not a recognizable form like a normal distribution. Its mean is 12,961 but the question is what can we say about the true mean value. We cannot build a confidence interval by simulating the sampling distribution because we don’t know how to describe it. \n",
        "#### Using Bootstrap will estimate the uncertainty of the mean by generating samples from our data and then characterize the distribution of the mean over these samples.\n",
        "#### We will sample our data “with replacement“ below. That means we draw random ratings allowing the same rating to be drawn again."
      ],
      "metadata": {
        "id": "Tx_hWYZBOKk_"
      }
    },
    {
      "cell_type": "markdown",
      "source": [
        "#### We created a dataframe having the mean ratings of 1000 samples for Confirmed cases. Plotting the histogram of the bootstrapped samples."
      ],
      "metadata": {
        "id": "dU6Oa4EK7Tu2"
      }
    },
    {
      "cell_type": "code",
      "source": [
        "# bootstrapping\n",
        "median_boot_samples=[]\n",
        "for i in range (1000):\n",
        "  boot_sample=np.random.choice(original_sample, size=100)\n",
        "  median_boot_samples.append(np.median(boot_sample))\n",
        "np.mean(median_boot_samples)"
      ],
      "metadata": {
        "colab": {
          "base_uri": "https://localhost:8080/"
        },
        "id": "gTP_BErK6dw6",
        "outputId": "c821a7bc-db9d-4adf-98ed-eaa6bbed5973"
      },
      "execution_count": 92,
      "outputs": [
        {
          "output_type": "execute_result",
          "data": {
            "text/plain": [
              "25.5145"
            ]
          },
          "metadata": {},
          "execution_count": 92
        }
      ]
    },
    {
      "cell_type": "code",
      "source": [
        "# The middle 95% interval conf_int.\n",
        "conf_int=np.percentile(median_boot_samples,(2.5,97.5))\n",
        "print(conf_int)"
      ],
      "metadata": {
        "id": "hiwf9RNA8Mko",
        "colab": {
          "base_uri": "https://localhost:8080/"
        },
        "outputId": "b5c953d1-270d-4b45-e188-146b89e23f59"
      },
      "execution_count": 93,
      "outputs": [
        {
          "output_type": "stream",
          "name": "stdout",
          "text": [
            "[ 2.    93.025]\n"
          ]
        }
      ]
    },
    {
      "cell_type": "markdown",
      "source": [
        "#### We created a dataframe having the mean ratings of 1000 samples. Plotting the histogram of the bootstrapped samples, \n",
        "#### we can clearly see that it approximates a normal distribution in line with the central limit theorem (CLT)."
      ],
      "metadata": {
        "id": "H6khbpfx7H6F"
      }
    },
    {
      "cell_type": "code",
      "source": [
        "sns.kdeplot(median_boot_samples)\n",
        "for endpoint in conf_int:\n",
        "  plt.axvline(endpoint, color='red')"
      ],
      "metadata": {
        "colab": {
          "base_uri": "https://localhost:8080/",
          "height": 265
        },
        "id": "mmEGBzDgDYAo",
        "outputId": "bc12e9f3-6794-4064-aa99-5339283e8de9"
      },
      "execution_count": 94,
      "outputs": [
        {
          "output_type": "display_data",
          "data": {
            "text/plain": [
              "<Figure size 432x288 with 1 Axes>"
            ],
            "image/png": "[encoded data removed]"
          },
          "metadata": {
            "needs_background": "light"
          }
        }
      ]
    },
    {
      "cell_type": "markdown",
      "source": [
        "## Conclusions"
      ],
      "metadata": {
        "id": "KdWYsswnEGJ3"
      }
    },
    {
      "cell_type": "markdown",
      "source": [
        "* The US had the second most amount of deaths and confirmed cases.  The US also had the most amount rows and observations in the dataset.  It is possible that the disparity in observations per country could have affected the data.  \n",
        "* The US's number of confirmed cases drastically increased in June of 2020.\n",
        "* I believe the dataset is incorrect at times which is why the June observations are significantly larger than the other observations from other months.  This is why the mean for the simulation of the median daily confirmed cases amount is less than the mean for the simulation of the mean daily confirmed cases."
      ],
      "metadata": {
        "id": "kkXynWuF8ugp"
      }
    }
  ]
}